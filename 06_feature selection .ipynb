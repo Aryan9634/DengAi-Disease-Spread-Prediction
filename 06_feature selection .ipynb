{
 "cells": [
  {
   "cell_type": "markdown",
   "id": "cf0baf8c",
   "metadata": {},
   "source": [
    "**05: Feature Selection**"
   ]
  },
  {
   "cell_type": "markdown",
   "id": "a2b1dab9",
   "metadata": {},
   "source": [
    "Importing required modules"
   ]
  },
  {
   "cell_type": "code",
   "execution_count": 1,
   "id": "e38dbf0c",
   "metadata": {},
   "outputs": [],
   "source": [
    "import numpy as np\n",
    "import pandas as pd\n",
    "\n",
    "import matplotlib.pyplot as plt\n",
    "\n",
    "from sklearn.feature_selection import SelectKBest, mutual_info_regression\n",
    "from sklearn.metrics import mean_squared_error, mean_absolute_error\n",
    "from sklearn.ensemble import RandomForestRegressor, GradientBoostingRegressor\n",
    "from sklearn.model_selection import train_test_split\n",
    "\n",
    "import os\n",
    "import pickle\n",
    "import datetime\n",
    "import warnings\n",
    "import re"
   ]
  },
  {
   "cell_type": "code",
   "execution_count": 2,
   "id": "c6a3b245",
   "metadata": {},
   "outputs": [],
   "source": [
    "pd.set_option('display.max_columns', None)\n",
    "warnings.filterwarnings(\"ignore\")"
   ]
  },
  {
   "cell_type": "markdown",
   "id": "8985d71f",
   "metadata": {},
   "source": [
    "Directory variables"
   ]
  },
  {
   "cell_type": "code",
   "execution_count": 3,
   "id": "080bb0f8",
   "metadata": {},
   "outputs": [],
   "source": [
    "data_path = r\"C:\\Data\\Study\\Ai_adventures\\Projects\\Machine_Learning\\Regression\\DengAi_Disease spread prediction\\outputs\\transformed_data.pkl\"\n",
    "model_path = r\"C:\\Data\\Study\\Ai_adventures\\Projects\\Machine_Learning\\Regression\\DengAi_Disease spread prediction\\models\\final_model.pkl\"\n",
    "output_dir = r\"C:\\Data\\Study\\Ai_adventures\\Projects\\Machine_Learning\\Regression\\DengAi_Disease spread prediction\\outputs\"\n",
    "transformer_dir = r\"C:\\Data\\Study\\Ai_adventures\\Projects\\Machine_Learning\\Regression\\DengAi_Disease spread prediction\\transformers\""
   ]
  },
  {
   "cell_type": "markdown",
   "id": "5ac2b486",
   "metadata": {},
   "source": [
    "Loading data and model"
   ]
  },
  {
   "cell_type": "code",
   "execution_count": 4,
   "id": "6441cfd3",
   "metadata": {},
   "outputs": [],
   "source": [
    "with open(data_path, \"rb\") as file:\n",
    "    data = pickle.load(file)"
   ]
  },
  {
   "cell_type": "code",
   "execution_count": 5,
   "id": "0c69616e",
   "metadata": {},
   "outputs": [],
   "source": [
    "with open(model_path, \"rb\") as file:\n",
    "    model = pickle.load(file)"
   ]
  },
  {
   "cell_type": "code",
   "execution_count": 6,
   "id": "ebfba89f",
   "metadata": {
    "scrolled": true
   },
   "outputs": [
    {
     "data": {
      "text/html": [
       "<div>\n",
       "<style scoped>\n",
       "    .dataframe tbody tr th:only-of-type {\n",
       "        vertical-align: middle;\n",
       "    }\n",
       "\n",
       "    .dataframe tbody tr th {\n",
       "        vertical-align: top;\n",
       "    }\n",
       "\n",
       "    .dataframe thead th {\n",
       "        text-align: right;\n",
       "    }\n",
       "</style>\n",
       "<table border=\"1\" class=\"dataframe\">\n",
       "  <thead>\n",
       "    <tr style=\"text-align: right;\">\n",
       "      <th></th>\n",
       "      <th>city</th>\n",
       "      <th>day</th>\n",
       "      <th>month</th>\n",
       "      <th>day_of_week</th>\n",
       "      <th>year</th>\n",
       "      <th>weekofyear</th>\n",
       "      <th>ndvi_ne</th>\n",
       "      <th>ndvi_nw</th>\n",
       "      <th>ndvi_se</th>\n",
       "      <th>ndvi_sw</th>\n",
       "      <th>precipitation_amt_mm</th>\n",
       "      <th>reanalysis_air_temp_k</th>\n",
       "      <th>reanalysis_avg_temp_k</th>\n",
       "      <th>reanalysis_dew_point_temp_k</th>\n",
       "      <th>reanalysis_max_air_temp_k</th>\n",
       "      <th>reanalysis_min_air_temp_k</th>\n",
       "      <th>reanalysis_precip_amt_kg_per_m2</th>\n",
       "      <th>reanalysis_relative_humidity_percent</th>\n",
       "      <th>reanalysis_sat_precip_amt_mm</th>\n",
       "      <th>reanalysis_specific_humidity_g_per_kg</th>\n",
       "      <th>reanalysis_tdtr_k</th>\n",
       "      <th>station_avg_temp_c</th>\n",
       "      <th>station_diur_temp_rng_c</th>\n",
       "      <th>station_max_temp_c</th>\n",
       "      <th>station_min_temp_c</th>\n",
       "      <th>station_precip_mm</th>\n",
       "      <th>total_cases</th>\n",
       "    </tr>\n",
       "  </thead>\n",
       "  <tbody>\n",
       "    <tr>\n",
       "      <th>0</th>\n",
       "      <td>1</td>\n",
       "      <td>30</td>\n",
       "      <td>4</td>\n",
       "      <td>0</td>\n",
       "      <td>1990</td>\n",
       "      <td>18</td>\n",
       "      <td>-0.016536</td>\n",
       "      <td>-0.045015</td>\n",
       "      <td>0.110036</td>\n",
       "      <td>-0.082612</td>\n",
       "      <td>-0.744185</td>\n",
       "      <td>-0.943302</td>\n",
       "      <td>-1.214591</td>\n",
       "      <td>-1.619633</td>\n",
       "      <td>-1.387852</td>\n",
       "      <td>-0.329611</td>\n",
       "      <td>0.335308</td>\n",
       "      <td>-1.566752</td>\n",
       "      <td>-0.744185</td>\n",
       "      <td>-1.587135</td>\n",
       "      <td>-0.368641</td>\n",
       "      <td>-1.291053</td>\n",
       "      <td>-0.300128</td>\n",
       "      <td>-1.448836</td>\n",
       "      <td>-1.484469</td>\n",
       "      <td>-0.272887</td>\n",
       "      <td>4</td>\n",
       "    </tr>\n",
       "    <tr>\n",
       "      <th>1</th>\n",
       "      <td>1</td>\n",
       "      <td>7</td>\n",
       "      <td>5</td>\n",
       "      <td>0</td>\n",
       "      <td>1990</td>\n",
       "      <td>19</td>\n",
       "      <td>0.377020</td>\n",
       "      <td>0.301500</td>\n",
       "      <td>-0.478241</td>\n",
       "      <td>-0.436839</td>\n",
       "      <td>-0.314551</td>\n",
       "      <td>-0.487879</td>\n",
       "      <td>-0.700195</td>\n",
       "      <td>-0.930554</td>\n",
       "      <td>-0.676998</td>\n",
       "      <td>-0.111301</td>\n",
       "      <td>-0.408830</td>\n",
       "      <td>-0.523304</td>\n",
       "      <td>-0.314551</td>\n",
       "      <td>-0.930743</td>\n",
       "      <td>-0.651463</td>\n",
       "      <td>-0.492902</td>\n",
       "      <td>-0.749960</td>\n",
       "      <td>-0.388845</td>\n",
       "      <td>-0.047147</td>\n",
       "      <td>-0.800602</td>\n",
       "      <td>5</td>\n",
       "    </tr>\n",
       "    <tr>\n",
       "      <th>2</th>\n",
       "      <td>1</td>\n",
       "      <td>14</td>\n",
       "      <td>5</td>\n",
       "      <td>0</td>\n",
       "      <td>1990</td>\n",
       "      <td>20</td>\n",
       "      <td>-0.792355</td>\n",
       "      <td>0.568155</td>\n",
       "      <td>-0.567387</td>\n",
       "      <td>-0.187652</td>\n",
       "      <td>0.097705</td>\n",
       "      <td>-0.071461</td>\n",
       "      <td>-0.367098</td>\n",
       "      <td>-0.035477</td>\n",
       "      <td>-0.919344</td>\n",
       "      <td>0.354113</td>\n",
       "      <td>0.061403</td>\n",
       "      <td>0.354093</td>\n",
       "      <td>0.097705</td>\n",
       "      <td>-0.045380</td>\n",
       "      <td>-0.738630</td>\n",
       "      <td>-0.492902</td>\n",
       "      <td>-0.645358</td>\n",
       "      <td>-0.133716</td>\n",
       "      <td>0.351279</td>\n",
       "      <td>0.798169</td>\n",
       "      <td>4</td>\n",
       "    </tr>\n",
       "    <tr>\n",
       "      <th>3</th>\n",
       "      <td>1</td>\n",
       "      <td>21</td>\n",
       "      <td>5</td>\n",
       "      <td>0</td>\n",
       "      <td>1990</td>\n",
       "      <td>21</td>\n",
       "      <td>0.034186</td>\n",
       "      <td>1.163593</td>\n",
       "      <td>0.537103</td>\n",
       "      <td>0.709611</td>\n",
       "      <td>-0.616682</td>\n",
       "      <td>0.081599</td>\n",
       "      <td>-0.090599</td>\n",
       "      <td>-0.124142</td>\n",
       "      <td>-0.400195</td>\n",
       "      <td>0.187881</td>\n",
       "      <td>-0.685225</td>\n",
       "      <td>0.075074</td>\n",
       "      <td>-0.616682</td>\n",
       "      <td>-0.164520</td>\n",
       "      <td>-0.584496</td>\n",
       "      <td>0.085830</td>\n",
       "      <td>-0.401578</td>\n",
       "      <td>0.476215</td>\n",
       "      <td>0.685422</td>\n",
       "      <td>-1.191951</td>\n",
       "      <td>3</td>\n",
       "    </tr>\n",
       "    <tr>\n",
       "      <th>4</th>\n",
       "      <td>1</td>\n",
       "      <td>28</td>\n",
       "      <td>5</td>\n",
       "      <td>0</td>\n",
       "      <td>1990</td>\n",
       "      <td>22</td>\n",
       "      <td>0.592251</td>\n",
       "      <td>1.300171</td>\n",
       "      <td>0.861593</td>\n",
       "      <td>0.847845</td>\n",
       "      <td>-0.967240</td>\n",
       "      <td>0.483642</td>\n",
       "      <td>0.267015</td>\n",
       "      <td>0.263463</td>\n",
       "      <td>-0.152622</td>\n",
       "      <td>0.471071</td>\n",
       "      <td>-0.810182</td>\n",
       "      <td>0.096439</td>\n",
       "      <td>-0.967240</td>\n",
       "      <td>0.215625</td>\n",
       "      <td>-0.025532</td>\n",
       "      <td>1.544761</td>\n",
       "      <td>0.952789</td>\n",
       "      <td>1.553328</td>\n",
       "      <td>1.088514</td>\n",
       "      <td>-1.032905</td>\n",
       "      <td>6</td>\n",
       "    </tr>\n",
       "  </tbody>\n",
       "</table>\n",
       "</div>"
      ],
      "text/plain": [
       "   city  day  month  day_of_week  year  weekofyear   ndvi_ne   ndvi_nw  \\\n",
       "0     1   30      4            0  1990          18 -0.016536 -0.045015   \n",
       "1     1    7      5            0  1990          19  0.377020  0.301500   \n",
       "2     1   14      5            0  1990          20 -0.792355  0.568155   \n",
       "3     1   21      5            0  1990          21  0.034186  1.163593   \n",
       "4     1   28      5            0  1990          22  0.592251  1.300171   \n",
       "\n",
       "    ndvi_se   ndvi_sw  precipitation_amt_mm  reanalysis_air_temp_k  \\\n",
       "0  0.110036 -0.082612             -0.744185              -0.943302   \n",
       "1 -0.478241 -0.436839             -0.314551              -0.487879   \n",
       "2 -0.567387 -0.187652              0.097705              -0.071461   \n",
       "3  0.537103  0.709611             -0.616682               0.081599   \n",
       "4  0.861593  0.847845             -0.967240               0.483642   \n",
       "\n",
       "   reanalysis_avg_temp_k  reanalysis_dew_point_temp_k  \\\n",
       "0              -1.214591                    -1.619633   \n",
       "1              -0.700195                    -0.930554   \n",
       "2              -0.367098                    -0.035477   \n",
       "3              -0.090599                    -0.124142   \n",
       "4               0.267015                     0.263463   \n",
       "\n",
       "   reanalysis_max_air_temp_k  reanalysis_min_air_temp_k  \\\n",
       "0                  -1.387852                  -0.329611   \n",
       "1                  -0.676998                  -0.111301   \n",
       "2                  -0.919344                   0.354113   \n",
       "3                  -0.400195                   0.187881   \n",
       "4                  -0.152622                   0.471071   \n",
       "\n",
       "   reanalysis_precip_amt_kg_per_m2  reanalysis_relative_humidity_percent  \\\n",
       "0                         0.335308                             -1.566752   \n",
       "1                        -0.408830                             -0.523304   \n",
       "2                         0.061403                              0.354093   \n",
       "3                        -0.685225                              0.075074   \n",
       "4                        -0.810182                              0.096439   \n",
       "\n",
       "   reanalysis_sat_precip_amt_mm  reanalysis_specific_humidity_g_per_kg  \\\n",
       "0                     -0.744185                              -1.587135   \n",
       "1                     -0.314551                              -0.930743   \n",
       "2                      0.097705                              -0.045380   \n",
       "3                     -0.616682                              -0.164520   \n",
       "4                     -0.967240                               0.215625   \n",
       "\n",
       "   reanalysis_tdtr_k  station_avg_temp_c  station_diur_temp_rng_c  \\\n",
       "0          -0.368641           -1.291053                -0.300128   \n",
       "1          -0.651463           -0.492902                -0.749960   \n",
       "2          -0.738630           -0.492902                -0.645358   \n",
       "3          -0.584496            0.085830                -0.401578   \n",
       "4          -0.025532            1.544761                 0.952789   \n",
       "\n",
       "   station_max_temp_c  station_min_temp_c  station_precip_mm  total_cases  \n",
       "0           -1.448836           -1.484469          -0.272887            4  \n",
       "1           -0.388845           -0.047147          -0.800602            5  \n",
       "2           -0.133716            0.351279           0.798169            4  \n",
       "3            0.476215            0.685422          -1.191951            3  \n",
       "4            1.553328            1.088514          -1.032905            6  "
      ]
     },
     "execution_count": 6,
     "metadata": {},
     "output_type": "execute_result"
    }
   ],
   "source": [
    "data.head()"
   ]
  },
  {
   "cell_type": "code",
   "execution_count": 7,
   "id": "4eea6e87",
   "metadata": {},
   "outputs": [
    {
     "data": {
      "text/plain": [
       "GradientBoostingRegressor(learning_rate=0.01, min_samples_leaf=3,\n",
       "                          min_samples_split=3, n_estimators=500)"
      ]
     },
     "execution_count": 7,
     "metadata": {},
     "output_type": "execute_result"
    }
   ],
   "source": [
    "model"
   ]
  },
  {
   "cell_type": "markdown",
   "id": "21a8dd62",
   "metadata": {},
   "source": [
    "Features and Labels"
   ]
  },
  {
   "cell_type": "code",
   "execution_count": 8,
   "id": "f65bbf76",
   "metadata": {},
   "outputs": [
    {
     "data": {
      "text/plain": [
       "((1114, 26), (1114,))"
      ]
     },
     "execution_count": 8,
     "metadata": {},
     "output_type": "execute_result"
    }
   ],
   "source": [
    "X = data.drop(columns=[\"total_cases\"])\n",
    "y = data.total_cases\n",
    "X.shape, y.shape"
   ]
  },
  {
   "cell_type": "markdown",
   "id": "bb7682f2",
   "metadata": {},
   "source": [
    "Splitting data"
   ]
  },
  {
   "cell_type": "code",
   "execution_count": 9,
   "id": "ce5c5e43",
   "metadata": {},
   "outputs": [],
   "source": [
    "X_train, X_test, y_train, y_test = train_test_split(X,y,test_size=0.2,random_state=0)"
   ]
  },
  {
   "cell_type": "markdown",
   "id": "71e4c752",
   "metadata": {},
   "source": [
    "Feature selection"
   ]
  },
  {
   "cell_type": "code",
   "execution_count": 10,
   "id": "d5540790",
   "metadata": {},
   "outputs": [
    {
     "data": {
      "text/plain": [
       "GradientBoostingRegressor(learning_rate=0.01, min_samples_leaf=3,\n",
       "                          min_samples_split=3, n_estimators=500)"
      ]
     },
     "execution_count": 10,
     "metadata": {},
     "output_type": "execute_result"
    }
   ],
   "source": [
    "dummy_model = model\n",
    "dummy_model"
   ]
  },
  {
   "cell_type": "code",
   "execution_count": 11,
   "id": "e0565c38",
   "metadata": {},
   "outputs": [
    {
     "data": {
      "image/png": "[encoded data removed]",
      "text/plain": [
       "<Figure size 864x432 with 1 Axes>"
      ]
     },
     "metadata": {
      "needs_background": "light"
     },
     "output_type": "display_data"
    }
   ],
   "source": [
    "plt.figure(figsize=(12,6))\n",
    "if hasattr(model, 'feature_importances_'):\n",
    "    feature_importance = dummy_model.feature_importances_\n",
    "    plt.bar(range(len(feature_importance)), feature_importance)\n",
    "    plt.xlabel('Feature Index')\n",
    "    plt.ylabel('Feature Importance')\n",
    "    plt.title('Feature Importance Plot')\n",
    "    plt.xticks(range(1, 26))\n",
    "    plt.show()"
   ]
  },
  {
   "cell_type": "code",
   "execution_count": 12,
   "id": "d4835956",
   "metadata": {},
   "outputs": [],
   "source": [
    "max_components = X.shape[1]\n",
    "mae_summary = {}\n",
    "\n",
    "for k in range(1, max_components):\n",
    "    selector = SelectKBest(score_func=mutual_info_regression, k=k)\n",
    "    X_new_train = selector.fit_transform(X_train, y_train)\n",
    "    X_new_test = selector.transform(X_test)\n",
    "    \n",
    "    # Train the dummy model on the selected features\n",
    "    dummy_model.fit(X_new_train, y_train)\n",
    "    \n",
    "    # Make predictions and calculate MSE\n",
    "    y_preds = dummy_model.predict(X_new_test)\n",
    "    mae = mean_absolute_error(y_test, y_preds)\n",
    "    \n",
    "    # Store the MSE in the summary dictionary\n",
    "    mae_summary[f\"features[{k}]\"] = mae"
   ]
  },
  {
   "cell_type": "code",
   "execution_count": 13,
   "id": "71113aa1",
   "metadata": {},
   "outputs": [
    {
     "data": {
      "image/png": "[encoded data removed]",
      "text/plain": [
       "<Figure size 864x432 with 1 Axes>"
      ]
     },
     "metadata": {
      "needs_background": "light"
     },
     "output_type": "display_data"
    }
   ],
   "source": [
    "plt.figure(figsize=(12,6))\n",
    "plt.plot(range(1,26),mae_summary.values())\n",
    "plt.xlabel(\"selected features\")\n",
    "plt.ylabel(\"mae\")\n",
    "plt.xlim(1,25)\n",
    "plt.xticks(range(1, 26))\n",
    "plt.grid(linewidth=0.5)\n",
    "plt.show()"
   ]
  },
  {
   "cell_type": "code",
   "execution_count": 14,
   "id": "e10c98e7",
   "metadata": {},
   "outputs": [],
   "source": [
    "def optimal_k(summary):\n",
    "    record = sorted(mae_summary.items(), key=lambda item: item[1])[0]\n",
    "    feature = record[0]\n",
    "    k = re.findall(\"\\d+\",feature)[0]\n",
    "    return int(k)"
   ]
  },
  {
   "cell_type": "code",
   "execution_count": 15,
   "id": "c29b7ab9",
   "metadata": {},
   "outputs": [],
   "source": [
    "selector_2 = SelectKBest(score_func=mutual_info_regression, k=optimal_k(mae_summary))\n",
    "X_selected = selector_2.fit_transform(X, y)"
   ]
  },
  {
   "cell_type": "code",
   "execution_count": 16,
   "id": "d7198dca",
   "metadata": {},
   "outputs": [
    {
     "name": "stdout",
     "output_type": "stream",
     "text": [
      "Selector saved successfully\n"
     ]
    }
   ],
   "source": [
    "transformer_data_path = os.path.join(transformer_dir, \"selector.pkl\")\n",
    "with open(transformer_data_path, \"wb\") as file:\n",
    "    pickle.dump(selector_2, file)\n",
    "    print(\"Selector saved successfully\")"
   ]
  },
  {
   "cell_type": "code",
   "execution_count": 17,
   "id": "04da89ac",
   "metadata": {},
   "outputs": [],
   "source": [
    "selected_features_df = pd.DataFrame(data=np.c_[X_selected, y], columns=[f\"feature_{i+1}\" for i in range(X_selected.shape[1])] + [\"total_cases\"])"
   ]
  },
  {
   "cell_type": "code",
   "execution_count": 18,
   "id": "66c501ab",
   "metadata": {
    "scrolled": true
   },
   "outputs": [
    {
     "data": {
      "text/html": [
       "<div>\n",
       "<style scoped>\n",
       "    .dataframe tbody tr th:only-of-type {\n",
       "        vertical-align: middle;\n",
       "    }\n",
       "\n",
       "    .dataframe tbody tr th {\n",
       "        vertical-align: top;\n",
       "    }\n",
       "\n",
       "    .dataframe thead th {\n",
       "        text-align: right;\n",
       "    }\n",
       "</style>\n",
       "<table border=\"1\" class=\"dataframe\">\n",
       "  <thead>\n",
       "    <tr style=\"text-align: right;\">\n",
       "      <th></th>\n",
       "      <th>feature_1</th>\n",
       "      <th>feature_2</th>\n",
       "      <th>feature_3</th>\n",
       "      <th>feature_4</th>\n",
       "      <th>feature_5</th>\n",
       "      <th>feature_6</th>\n",
       "      <th>feature_7</th>\n",
       "      <th>feature_8</th>\n",
       "      <th>feature_9</th>\n",
       "      <th>feature_10</th>\n",
       "      <th>feature_11</th>\n",
       "      <th>feature_12</th>\n",
       "      <th>feature_13</th>\n",
       "      <th>feature_14</th>\n",
       "      <th>feature_15</th>\n",
       "      <th>feature_16</th>\n",
       "      <th>feature_17</th>\n",
       "      <th>feature_18</th>\n",
       "      <th>feature_19</th>\n",
       "      <th>feature_20</th>\n",
       "      <th>feature_21</th>\n",
       "      <th>feature_22</th>\n",
       "      <th>total_cases</th>\n",
       "    </tr>\n",
       "  </thead>\n",
       "  <tbody>\n",
       "    <tr>\n",
       "      <th>0</th>\n",
       "      <td>1.0</td>\n",
       "      <td>4.0</td>\n",
       "      <td>0.0</td>\n",
       "      <td>1990.0</td>\n",
       "      <td>18.0</td>\n",
       "      <td>-0.016536</td>\n",
       "      <td>-0.045015</td>\n",
       "      <td>0.110036</td>\n",
       "      <td>-0.082612</td>\n",
       "      <td>-0.744185</td>\n",
       "      <td>-0.943302</td>\n",
       "      <td>-1.214591</td>\n",
       "      <td>-1.387852</td>\n",
       "      <td>-0.329611</td>\n",
       "      <td>-1.566752</td>\n",
       "      <td>-0.744185</td>\n",
       "      <td>-0.368641</td>\n",
       "      <td>-1.291053</td>\n",
       "      <td>-0.300128</td>\n",
       "      <td>-1.448836</td>\n",
       "      <td>-1.484469</td>\n",
       "      <td>-0.272887</td>\n",
       "      <td>4.0</td>\n",
       "    </tr>\n",
       "    <tr>\n",
       "      <th>1</th>\n",
       "      <td>1.0</td>\n",
       "      <td>5.0</td>\n",
       "      <td>0.0</td>\n",
       "      <td>1990.0</td>\n",
       "      <td>19.0</td>\n",
       "      <td>0.377020</td>\n",
       "      <td>0.301500</td>\n",
       "      <td>-0.478241</td>\n",
       "      <td>-0.436839</td>\n",
       "      <td>-0.314551</td>\n",
       "      <td>-0.487879</td>\n",
       "      <td>-0.700195</td>\n",
       "      <td>-0.676998</td>\n",
       "      <td>-0.111301</td>\n",
       "      <td>-0.523304</td>\n",
       "      <td>-0.314551</td>\n",
       "      <td>-0.651463</td>\n",
       "      <td>-0.492902</td>\n",
       "      <td>-0.749960</td>\n",
       "      <td>-0.388845</td>\n",
       "      <td>-0.047147</td>\n",
       "      <td>-0.800602</td>\n",
       "      <td>5.0</td>\n",
       "    </tr>\n",
       "    <tr>\n",
       "      <th>2</th>\n",
       "      <td>1.0</td>\n",
       "      <td>5.0</td>\n",
       "      <td>0.0</td>\n",
       "      <td>1990.0</td>\n",
       "      <td>20.0</td>\n",
       "      <td>-0.792355</td>\n",
       "      <td>0.568155</td>\n",
       "      <td>-0.567387</td>\n",
       "      <td>-0.187652</td>\n",
       "      <td>0.097705</td>\n",
       "      <td>-0.071461</td>\n",
       "      <td>-0.367098</td>\n",
       "      <td>-0.919344</td>\n",
       "      <td>0.354113</td>\n",
       "      <td>0.354093</td>\n",
       "      <td>0.097705</td>\n",
       "      <td>-0.738630</td>\n",
       "      <td>-0.492902</td>\n",
       "      <td>-0.645358</td>\n",
       "      <td>-0.133716</td>\n",
       "      <td>0.351279</td>\n",
       "      <td>0.798169</td>\n",
       "      <td>4.0</td>\n",
       "    </tr>\n",
       "    <tr>\n",
       "      <th>3</th>\n",
       "      <td>1.0</td>\n",
       "      <td>5.0</td>\n",
       "      <td>0.0</td>\n",
       "      <td>1990.0</td>\n",
       "      <td>21.0</td>\n",
       "      <td>0.034186</td>\n",
       "      <td>1.163593</td>\n",
       "      <td>0.537103</td>\n",
       "      <td>0.709611</td>\n",
       "      <td>-0.616682</td>\n",
       "      <td>0.081599</td>\n",
       "      <td>-0.090599</td>\n",
       "      <td>-0.400195</td>\n",
       "      <td>0.187881</td>\n",
       "      <td>0.075074</td>\n",
       "      <td>-0.616682</td>\n",
       "      <td>-0.584496</td>\n",
       "      <td>0.085830</td>\n",
       "      <td>-0.401578</td>\n",
       "      <td>0.476215</td>\n",
       "      <td>0.685422</td>\n",
       "      <td>-1.191951</td>\n",
       "      <td>3.0</td>\n",
       "    </tr>\n",
       "    <tr>\n",
       "      <th>4</th>\n",
       "      <td>1.0</td>\n",
       "      <td>5.0</td>\n",
       "      <td>0.0</td>\n",
       "      <td>1990.0</td>\n",
       "      <td>22.0</td>\n",
       "      <td>0.592251</td>\n",
       "      <td>1.300171</td>\n",
       "      <td>0.861593</td>\n",
       "      <td>0.847845</td>\n",
       "      <td>-0.967240</td>\n",
       "      <td>0.483642</td>\n",
       "      <td>0.267015</td>\n",
       "      <td>-0.152622</td>\n",
       "      <td>0.471071</td>\n",
       "      <td>0.096439</td>\n",
       "      <td>-0.967240</td>\n",
       "      <td>-0.025532</td>\n",
       "      <td>1.544761</td>\n",
       "      <td>0.952789</td>\n",
       "      <td>1.553328</td>\n",
       "      <td>1.088514</td>\n",
       "      <td>-1.032905</td>\n",
       "      <td>6.0</td>\n",
       "    </tr>\n",
       "  </tbody>\n",
       "</table>\n",
       "</div>"
      ],
      "text/plain": [
       "   feature_1  feature_2  feature_3  feature_4  feature_5  feature_6  \\\n",
       "0        1.0        4.0        0.0     1990.0       18.0  -0.016536   \n",
       "1        1.0        5.0        0.0     1990.0       19.0   0.377020   \n",
       "2        1.0        5.0        0.0     1990.0       20.0  -0.792355   \n",
       "3        1.0        5.0        0.0     1990.0       21.0   0.034186   \n",
       "4        1.0        5.0        0.0     1990.0       22.0   0.592251   \n",
       "\n",
       "   feature_7  feature_8  feature_9  feature_10  feature_11  feature_12  \\\n",
       "0  -0.045015   0.110036  -0.082612   -0.744185   -0.943302   -1.214591   \n",
       "1   0.301500  -0.478241  -0.436839   -0.314551   -0.487879   -0.700195   \n",
       "2   0.568155  -0.567387  -0.187652    0.097705   -0.071461   -0.367098   \n",
       "3   1.163593   0.537103   0.709611   -0.616682    0.081599   -0.090599   \n",
       "4   1.300171   0.861593   0.847845   -0.967240    0.483642    0.267015   \n",
       "\n",
       "   feature_13  feature_14  feature_15  feature_16  feature_17  feature_18  \\\n",
       "0   -1.387852   -0.329611   -1.566752   -0.744185   -0.368641   -1.291053   \n",
       "1   -0.676998   -0.111301   -0.523304   -0.314551   -0.651463   -0.492902   \n",
       "2   -0.919344    0.354113    0.354093    0.097705   -0.738630   -0.492902   \n",
       "3   -0.400195    0.187881    0.075074   -0.616682   -0.584496    0.085830   \n",
       "4   -0.152622    0.471071    0.096439   -0.967240   -0.025532    1.544761   \n",
       "\n",
       "   feature_19  feature_20  feature_21  feature_22  total_cases  \n",
       "0   -0.300128   -1.448836   -1.484469   -0.272887          4.0  \n",
       "1   -0.749960   -0.388845   -0.047147   -0.800602          5.0  \n",
       "2   -0.645358   -0.133716    0.351279    0.798169          4.0  \n",
       "3   -0.401578    0.476215    0.685422   -1.191951          3.0  \n",
       "4    0.952789    1.553328    1.088514   -1.032905          6.0  "
      ]
     },
     "execution_count": 18,
     "metadata": {},
     "output_type": "execute_result"
    }
   ],
   "source": [
    "selected_features_df.head()"
   ]
  },
  {
   "cell_type": "code",
   "execution_count": 19,
   "id": "2810fb56",
   "metadata": {},
   "outputs": [
    {
     "name": "stdout",
     "output_type": "stream",
     "text": [
      "Shape of selected features and labels dataframe: (1114, 23)\n"
     ]
    }
   ],
   "source": [
    "print(f\"Shape of selected features and labels dataframe: {selected_features_df.shape}\")"
   ]
  },
  {
   "cell_type": "markdown",
   "id": "f2d2a176",
   "metadata": {},
   "source": [
    "Saving the data"
   ]
  },
  {
   "cell_type": "code",
   "execution_count": 20,
   "id": "902bf6ee",
   "metadata": {},
   "outputs": [
    {
     "name": "stdout",
     "output_type": "stream",
     "text": [
      "Selected features and labels saved\n"
     ]
    }
   ],
   "source": [
    "# Save the concatenated dataframe to the output folder\n",
    "if not os.path.exists(output_dir):\n",
    "    os.makedirs(output_dir)\n",
    "\n",
    "concatenated_path = os.path.join(output_dir, \"selected_features_and_labels.pkl\")\n",
    "selected_features_df.to_pickle(concatenated_path)\n",
    "\n",
    "print(f\"Selected features and labels saved\")"
   ]
  },
  {
   "cell_type": "code",
   "execution_count": null,
   "id": "6a3b8cbd",
   "metadata": {},
   "outputs": [],
   "source": []
  }
 ],
 "metadata": {
  "kernelspec": {
   "display_name": "Python 3 (ipykernel)",
   "language": "python",
   "name": "python3"
  },
  "language_info": {
   "codemirror_mode": {
    "name": "ipython",
    "version": 3
   },
   "file_extension": ".py",
   "mimetype": "text/x-python",
   "name": "python",
   "nbconvert_exporter": "python",
   "pygments_lexer": "ipython3",
   "version": "3.10.0"
  }
 },
 "nbformat": 4,
 "nbformat_minor": 5
}
