{
 "cells": [
  {
   "cell_type": "markdown",
   "id": "8eb8295c",
   "metadata": {},
   "source": [
    "Importing required modules"
   ]
  },
  {
   "cell_type": "code",
   "execution_count": 833,
   "id": "805c081b",
   "metadata": {},
   "outputs": [],
   "source": [
    "import numpy as np\n",
    "import pandas as pd\n",
    "import matplotlib.pyplot as plt\n",
    "import seaborn as sns\n",
    "\n",
    "import torch\n",
    "from torch.utils.data import TensorDataset,random_split,DataLoader\n",
    "import torch.nn.functional as F\n",
    "import torch.nn as nn\n",
    "from sklearn.metrics import confusion_matrix, accuracy_score, precision_score, recall_score, f1_score, classification_report\n",
    "\n",
    "import warnings\n",
    "import pickle\n",
    "import os"
   ]
  },
  {
   "cell_type": "code",
   "execution_count": 793,
   "id": "f399ccf6",
   "metadata": {},
   "outputs": [],
   "source": [
    "pd.set_option('display.max_columns', None)\n",
    "warnings.filterwarnings(\"ignore\")"
   ]
  },
  {
   "cell_type": "markdown",
   "id": "8ea9a9ea",
   "metadata": {},
   "source": [
    "Directory variables"
   ]
  },
  {
   "cell_type": "code",
   "execution_count": 831,
   "id": "f0b5dc70",
   "metadata": {},
   "outputs": [],
   "source": [
    "transformed_data_path = r\"C:\\Data\\Study\\Ai_adventures\\Projects\\Machine_Learning\\Regression\\DengAi_Disease spread prediction\\outputs\\transformed_data.pkl\"\n",
    "output_dir = r\"C:\\Data\\Study\\Ai_adventures\\Projects\\Machine_Learning\\Regression\\DengAi_Disease spread prediction\\outputs\""
   ]
  },
  {
   "cell_type": "markdown",
   "id": "6577ada5",
   "metadata": {},
   "source": [
    "Loading data"
   ]
  },
  {
   "cell_type": "code",
   "execution_count": 795,
   "id": "ff51372a",
   "metadata": {},
   "outputs": [],
   "source": [
    "def load_transformed_data(file_path):\n",
    "    with open(file_path, \"rb\") as file:\n",
    "        return pickle.load(file)"
   ]
  },
  {
   "cell_type": "code",
   "execution_count": 796,
   "id": "ca05945f",
   "metadata": {},
   "outputs": [
    {
     "data": {
      "text/html": [
       "<div>\n",
       "<style scoped>\n",
       "    .dataframe tbody tr th:only-of-type {\n",
       "        vertical-align: middle;\n",
       "    }\n",
       "\n",
       "    .dataframe tbody tr th {\n",
       "        vertical-align: top;\n",
       "    }\n",
       "\n",
       "    .dataframe thead th {\n",
       "        text-align: right;\n",
       "    }\n",
       "</style>\n",
       "<table border=\"1\" class=\"dataframe\">\n",
       "  <thead>\n",
       "    <tr style=\"text-align: right;\">\n",
       "      <th></th>\n",
       "      <th>city</th>\n",
       "      <th>day</th>\n",
       "      <th>month</th>\n",
       "      <th>day_of_week</th>\n",
       "      <th>year</th>\n",
       "      <th>weekofyear</th>\n",
       "      <th>ndvi_ne</th>\n",
       "      <th>ndvi_nw</th>\n",
       "      <th>ndvi_se</th>\n",
       "      <th>ndvi_sw</th>\n",
       "      <th>precipitation_amt_mm</th>\n",
       "      <th>reanalysis_air_temp_k</th>\n",
       "      <th>reanalysis_avg_temp_k</th>\n",
       "      <th>reanalysis_dew_point_temp_k</th>\n",
       "      <th>reanalysis_max_air_temp_k</th>\n",
       "      <th>reanalysis_min_air_temp_k</th>\n",
       "      <th>reanalysis_precip_amt_kg_per_m2</th>\n",
       "      <th>reanalysis_relative_humidity_percent</th>\n",
       "      <th>reanalysis_sat_precip_amt_mm</th>\n",
       "      <th>reanalysis_specific_humidity_g_per_kg</th>\n",
       "      <th>reanalysis_tdtr_k</th>\n",
       "      <th>station_avg_temp_c</th>\n",
       "      <th>station_diur_temp_rng_c</th>\n",
       "      <th>station_max_temp_c</th>\n",
       "      <th>station_min_temp_c</th>\n",
       "      <th>station_precip_mm</th>\n",
       "      <th>total_cases</th>\n",
       "    </tr>\n",
       "  </thead>\n",
       "  <tbody>\n",
       "    <tr>\n",
       "      <th>0</th>\n",
       "      <td>1</td>\n",
       "      <td>30</td>\n",
       "      <td>4</td>\n",
       "      <td>0</td>\n",
       "      <td>1990</td>\n",
       "      <td>18</td>\n",
       "      <td>-0.016536</td>\n",
       "      <td>-0.045015</td>\n",
       "      <td>0.110036</td>\n",
       "      <td>-0.082612</td>\n",
       "      <td>-0.744185</td>\n",
       "      <td>-0.943302</td>\n",
       "      <td>-1.214591</td>\n",
       "      <td>-1.619633</td>\n",
       "      <td>-1.387852</td>\n",
       "      <td>-0.329611</td>\n",
       "      <td>0.335308</td>\n",
       "      <td>-1.566752</td>\n",
       "      <td>-0.744185</td>\n",
       "      <td>-1.587135</td>\n",
       "      <td>-0.368641</td>\n",
       "      <td>-1.291053</td>\n",
       "      <td>-0.300128</td>\n",
       "      <td>-1.448836</td>\n",
       "      <td>-1.484469</td>\n",
       "      <td>-0.272887</td>\n",
       "      <td>4</td>\n",
       "    </tr>\n",
       "    <tr>\n",
       "      <th>1</th>\n",
       "      <td>1</td>\n",
       "      <td>7</td>\n",
       "      <td>5</td>\n",
       "      <td>0</td>\n",
       "      <td>1990</td>\n",
       "      <td>19</td>\n",
       "      <td>0.377020</td>\n",
       "      <td>0.301500</td>\n",
       "      <td>-0.478241</td>\n",
       "      <td>-0.436839</td>\n",
       "      <td>-0.314551</td>\n",
       "      <td>-0.487879</td>\n",
       "      <td>-0.700195</td>\n",
       "      <td>-0.930554</td>\n",
       "      <td>-0.676998</td>\n",
       "      <td>-0.111301</td>\n",
       "      <td>-0.408830</td>\n",
       "      <td>-0.523304</td>\n",
       "      <td>-0.314551</td>\n",
       "      <td>-0.930743</td>\n",
       "      <td>-0.651463</td>\n",
       "      <td>-0.492902</td>\n",
       "      <td>-0.749960</td>\n",
       "      <td>-0.388845</td>\n",
       "      <td>-0.047147</td>\n",
       "      <td>-0.800602</td>\n",
       "      <td>5</td>\n",
       "    </tr>\n",
       "    <tr>\n",
       "      <th>2</th>\n",
       "      <td>1</td>\n",
       "      <td>14</td>\n",
       "      <td>5</td>\n",
       "      <td>0</td>\n",
       "      <td>1990</td>\n",
       "      <td>20</td>\n",
       "      <td>-0.792355</td>\n",
       "      <td>0.568155</td>\n",
       "      <td>-0.567387</td>\n",
       "      <td>-0.187652</td>\n",
       "      <td>0.097705</td>\n",
       "      <td>-0.071461</td>\n",
       "      <td>-0.367098</td>\n",
       "      <td>-0.035477</td>\n",
       "      <td>-0.919344</td>\n",
       "      <td>0.354113</td>\n",
       "      <td>0.061403</td>\n",
       "      <td>0.354093</td>\n",
       "      <td>0.097705</td>\n",
       "      <td>-0.045380</td>\n",
       "      <td>-0.738630</td>\n",
       "      <td>-0.492902</td>\n",
       "      <td>-0.645358</td>\n",
       "      <td>-0.133716</td>\n",
       "      <td>0.351279</td>\n",
       "      <td>0.798169</td>\n",
       "      <td>4</td>\n",
       "    </tr>\n",
       "    <tr>\n",
       "      <th>3</th>\n",
       "      <td>1</td>\n",
       "      <td>21</td>\n",
       "      <td>5</td>\n",
       "      <td>0</td>\n",
       "      <td>1990</td>\n",
       "      <td>21</td>\n",
       "      <td>0.034186</td>\n",
       "      <td>1.163593</td>\n",
       "      <td>0.537103</td>\n",
       "      <td>0.709611</td>\n",
       "      <td>-0.616682</td>\n",
       "      <td>0.081599</td>\n",
       "      <td>-0.090599</td>\n",
       "      <td>-0.124142</td>\n",
       "      <td>-0.400195</td>\n",
       "      <td>0.187881</td>\n",
       "      <td>-0.685225</td>\n",
       "      <td>0.075074</td>\n",
       "      <td>-0.616682</td>\n",
       "      <td>-0.164520</td>\n",
       "      <td>-0.584496</td>\n",
       "      <td>0.085830</td>\n",
       "      <td>-0.401578</td>\n",
       "      <td>0.476215</td>\n",
       "      <td>0.685422</td>\n",
       "      <td>-1.191951</td>\n",
       "      <td>3</td>\n",
       "    </tr>\n",
       "    <tr>\n",
       "      <th>4</th>\n",
       "      <td>1</td>\n",
       "      <td>28</td>\n",
       "      <td>5</td>\n",
       "      <td>0</td>\n",
       "      <td>1990</td>\n",
       "      <td>22</td>\n",
       "      <td>0.592251</td>\n",
       "      <td>1.300171</td>\n",
       "      <td>0.861593</td>\n",
       "      <td>0.847845</td>\n",
       "      <td>-0.967240</td>\n",
       "      <td>0.483642</td>\n",
       "      <td>0.267015</td>\n",
       "      <td>0.263463</td>\n",
       "      <td>-0.152622</td>\n",
       "      <td>0.471071</td>\n",
       "      <td>-0.810182</td>\n",
       "      <td>0.096439</td>\n",
       "      <td>-0.967240</td>\n",
       "      <td>0.215625</td>\n",
       "      <td>-0.025532</td>\n",
       "      <td>1.544761</td>\n",
       "      <td>0.952789</td>\n",
       "      <td>1.553328</td>\n",
       "      <td>1.088514</td>\n",
       "      <td>-1.032905</td>\n",
       "      <td>6</td>\n",
       "    </tr>\n",
       "  </tbody>\n",
       "</table>\n",
       "</div>"
      ],
      "text/plain": [
       "   city  day  month  day_of_week  year  weekofyear   ndvi_ne   ndvi_nw  \\\n",
       "0     1   30      4            0  1990          18 -0.016536 -0.045015   \n",
       "1     1    7      5            0  1990          19  0.377020  0.301500   \n",
       "2     1   14      5            0  1990          20 -0.792355  0.568155   \n",
       "3     1   21      5            0  1990          21  0.034186  1.163593   \n",
       "4     1   28      5            0  1990          22  0.592251  1.300171   \n",
       "\n",
       "    ndvi_se   ndvi_sw  precipitation_amt_mm  reanalysis_air_temp_k  \\\n",
       "0  0.110036 -0.082612             -0.744185              -0.943302   \n",
       "1 -0.478241 -0.436839             -0.314551              -0.487879   \n",
       "2 -0.567387 -0.187652              0.097705              -0.071461   \n",
       "3  0.537103  0.709611             -0.616682               0.081599   \n",
       "4  0.861593  0.847845             -0.967240               0.483642   \n",
       "\n",
       "   reanalysis_avg_temp_k  reanalysis_dew_point_temp_k  \\\n",
       "0              -1.214591                    -1.619633   \n",
       "1              -0.700195                    -0.930554   \n",
       "2              -0.367098                    -0.035477   \n",
       "3              -0.090599                    -0.124142   \n",
       "4               0.267015                     0.263463   \n",
       "\n",
       "   reanalysis_max_air_temp_k  reanalysis_min_air_temp_k  \\\n",
       "0                  -1.387852                  -0.329611   \n",
       "1                  -0.676998                  -0.111301   \n",
       "2                  -0.919344                   0.354113   \n",
       "3                  -0.400195                   0.187881   \n",
       "4                  -0.152622                   0.471071   \n",
       "\n",
       "   reanalysis_precip_amt_kg_per_m2  reanalysis_relative_humidity_percent  \\\n",
       "0                         0.335308                             -1.566752   \n",
       "1                        -0.408830                             -0.523304   \n",
       "2                         0.061403                              0.354093   \n",
       "3                        -0.685225                              0.075074   \n",
       "4                        -0.810182                              0.096439   \n",
       "\n",
       "   reanalysis_sat_precip_amt_mm  reanalysis_specific_humidity_g_per_kg  \\\n",
       "0                     -0.744185                              -1.587135   \n",
       "1                     -0.314551                              -0.930743   \n",
       "2                      0.097705                              -0.045380   \n",
       "3                     -0.616682                              -0.164520   \n",
       "4                     -0.967240                               0.215625   \n",
       "\n",
       "   reanalysis_tdtr_k  station_avg_temp_c  station_diur_temp_rng_c  \\\n",
       "0          -0.368641           -1.291053                -0.300128   \n",
       "1          -0.651463           -0.492902                -0.749960   \n",
       "2          -0.738630           -0.492902                -0.645358   \n",
       "3          -0.584496            0.085830                -0.401578   \n",
       "4          -0.025532            1.544761                 0.952789   \n",
       "\n",
       "   station_max_temp_c  station_min_temp_c  station_precip_mm  total_cases  \n",
       "0           -1.448836           -1.484469          -0.272887            4  \n",
       "1           -0.388845           -0.047147          -0.800602            5  \n",
       "2           -0.133716            0.351279           0.798169            4  \n",
       "3            0.476215            0.685422          -1.191951            3  \n",
       "4            1.553328            1.088514          -1.032905            6  "
      ]
     },
     "execution_count": 796,
     "metadata": {},
     "output_type": "execute_result"
    }
   ],
   "source": [
    "data = load_transformed_data(transformed_data_path)\n",
    "data.head()"
   ]
  },
  {
   "cell_type": "markdown",
   "id": "a745e1a9",
   "metadata": {},
   "source": [
    "Loading data"
   ]
  },
  {
   "cell_type": "code",
   "execution_count": 797,
   "id": "e3c4c45a",
   "metadata": {},
   "outputs": [
    {
     "data": {
      "text/plain": [
       "((1114, 26), (1114,))"
      ]
     },
     "execution_count": 797,
     "metadata": {},
     "output_type": "execute_result"
    }
   ],
   "source": [
    "X = data.drop(columns=[\"total_cases\"])\n",
    "y = data[\"total_cases\"]\n",
    "X.shape, y.shape"
   ]
  },
  {
   "cell_type": "markdown",
   "id": "dc7ff7d8",
   "metadata": {},
   "source": [
    "- Creating Tesnor dataset"
   ]
  },
  {
   "cell_type": "code",
   "execution_count": 798,
   "id": "e1ac3d3d",
   "metadata": {},
   "outputs": [],
   "source": [
    "def Dataset(X,y):\n",
    "    features = X.to_numpy()\n",
    "    labels = y.to_numpy()\n",
    "\n",
    "    features_tensor = torch.tensor(features)\n",
    "    labels_tensor = torch.tensor(labels,dtype=torch.float32)\n",
    "\n",
    "    data = TensorDataset(features_tensor,labels_tensor)\n",
    "    return data"
   ]
  },
  {
   "cell_type": "code",
   "execution_count": 799,
   "id": "f49c8d61",
   "metadata": {},
   "outputs": [
    {
     "data": {
      "text/plain": [
       "<torch.utils.data.dataset.TensorDataset at 0x24d4905f6a0>"
      ]
     },
     "execution_count": 799,
     "metadata": {},
     "output_type": "execute_result"
    }
   ],
   "source": [
    "data = Dataset(X,y)\n",
    "data"
   ]
  },
  {
   "cell_type": "code",
   "execution_count": 800,
   "id": "da790057",
   "metadata": {},
   "outputs": [
    {
     "data": {
      "text/plain": [
       "1114"
      ]
     },
     "execution_count": 800,
     "metadata": {},
     "output_type": "execute_result"
    }
   ],
   "source": [
    "len(data)"
   ]
  },
  {
   "cell_type": "markdown",
   "id": "b17c232b",
   "metadata": {},
   "source": [
    "- Splitting data"
   ]
  },
  {
   "cell_type": "code",
   "execution_count": 801,
   "id": "67e90ba0",
   "metadata": {},
   "outputs": [],
   "source": [
    "train_ds, val_ds = random_split(data,[len(data)-223,223])"
   ]
  },
  {
   "cell_type": "markdown",
   "id": "536a8ad1",
   "metadata": {},
   "source": [
    "- Data Loaders"
   ]
  },
  {
   "cell_type": "code",
   "execution_count": 835,
   "id": "889a06af",
   "metadata": {},
   "outputs": [],
   "source": [
    "batch_size = 100"
   ]
  },
  {
   "cell_type": "code",
   "execution_count": 802,
   "id": "4319c8e3",
   "metadata": {},
   "outputs": [],
   "source": [
    "train_dl = DataLoader(train_ds,batch_size,shuffle=True)\n",
    "val_dl = DataLoader(val_ds,batch_size)\n",
    "# test_dl = DataLoader(test_ds,batch_size)"
   ]
  },
  {
   "cell_type": "code",
   "execution_count": 803,
   "id": "21c83898",
   "metadata": {},
   "outputs": [
    {
     "name": "stdout",
     "output_type": "stream",
     "text": [
      "tensor([[ 1.0000,  1.0000,  4.0000,  ..., -0.9154, -0.0471, -1.5233],\n",
      "        [ 1.0000,  1.0000,  1.0000,  ..., -1.6612, -0.7697,  0.2418],\n",
      "        [ 0.0000,  5.0000,  2.0000,  ...,  2.5368, -1.0954,  0.1689],\n",
      "        ...,\n",
      "        [ 1.0000, 22.0000,  7.0000,  ..., -0.3888,  0.6854,  0.7867],\n",
      "        [ 1.0000, 30.0000,  7.0000,  ...,  0.1896,  1.4260, -0.3699],\n",
      "        [ 1.0000, 28.0000, 10.0000,  ..., -0.6813,  0.6854,  0.1689]],\n",
      "       dtype=torch.float64) tensor([  3.,  11.,   3.,   5.,  26.,  24.,   8.,  19.,  14.,  17.,   4.,   8.,\n",
      "         15.,   9.,  35.,   3.,  26.,   6.,   2.,  31.,  32.,  21.,  37.,   6.,\n",
      "          3.,   3.,  10.,  29.,  17.,   1.,  41.,  22.,  31.,  27.,  20.,  37.,\n",
      "         67.,  22.,  20.,   4.,   8.,  18.,  11.,   0.,   3.,  10.,   7.,  17.,\n",
      "         35.,   9.,  12.,   0.,   4.,   6.,  72.,  39.,  17.,  21.,   2.,  14.,\n",
      "         29.,  16.,   5.,   0.,  55.,   3.,   1.,   1.,  40.,   4.,  19.,  20.,\n",
      "         68.,  51.,  21.,  10.,  13.,   8.,   5.,  17.,  47.,   8., 116.,   6.,\n",
      "         35.,  14.,   0.,  40.,  30.,   0.,   0.,   4.,  18.,  17.,   7.,   7.,\n",
      "         10.,  32.,  36.,   9.])\n"
     ]
    }
   ],
   "source": [
    "for xb,yb in train_dl:\n",
    "    print(xb,yb)\n",
    "    break"
   ]
  },
  {
   "cell_type": "code",
   "execution_count": 804,
   "id": "037e6517",
   "metadata": {},
   "outputs": [
    {
     "name": "stdout",
     "output_type": "stream",
     "text": [
      "torch.Size([100, 26]) tensor([  1.,  13.,  12.,  34.,   5.,   2.,  25.,  18.,   0.,  40., 154.,   2.,\n",
      "         15.,  26.,  33.,   3.,  27.,  11.,  29.,   7.,   1.,   0.,   9.,   1.,\n",
      "          9.,  11., 116.,  56.,   3.,  34.,   3.,  10.,   6.,   5.,  16.,   6.,\n",
      "         11., 137.,   8.,   6.,  11.,   0.,   5.,  16.,   1.,  18.,  32.,  21.,\n",
      "         17.,  29.,  26.,  21.,  19.,   0.,  53.,  47.,  20.,  37.,   0.,  35.,\n",
      "         12.,   4.,  17.,  34.,  17.,   7.,  18.,   3.,  19.,  29.,   3.,  22.,\n",
      "          7.,  30.,  34.,   8.,  22.,   2.,  18.,   4.,   3.,   5.,   1.,  15.,\n",
      "         19.,  38.,  21.,  30., 112.,  31.,  16.,   7.,  38.,   5.,  21.,  62.,\n",
      "          2., 129.,  51.,   4.])\n"
     ]
    }
   ],
   "source": [
    "for batch in train_dl:\n",
    "    features,labels = batch\n",
    "    print(features.shape,labels)\n",
    "    break"
   ]
  },
  {
   "cell_type": "markdown",
   "id": "66ada760",
   "metadata": {},
   "source": [
    "- Model building "
   ]
  },
  {
   "cell_type": "code",
   "execution_count": 805,
   "id": "e1f97ce8",
   "metadata": {},
   "outputs": [],
   "source": [
    "class LinearRegression(nn.Module):\n",
    "    def training_step(self, batch):\n",
    "        features, labels = batch\n",
    "        outputs = self(features)\n",
    "        loss = F.l1_loss(outputs, labels, reduction='mean')\n",
    "        return loss\n",
    "    \n",
    "    def validation_step(self, batch):\n",
    "        features, labels = batch\n",
    "        outputs = self(features)\n",
    "        loss = F.l1_loss(outputs, labels, reduction='mean')\n",
    "        return {\"val loss\": loss.detach()}\n",
    "\n",
    "    def validation_epoch_end(self, outputs):\n",
    "        batch_loss = [x[\"val loss\"] for x in outputs]\n",
    "        epoch_loss = torch.stack(batch_loss).mean()\n",
    "        return {\"val loss\": epoch_loss.item()}\n",
    "\n",
    "    def epoch_end(self, epoch_num, results, fit_one_cycle=False):\n",
    "        if epoch_num%2==0:\n",
    "            if fit_one_cycle:\n",
    "                print(\"Epoch [{}], last_lr: {:.5f}, train loss: {:.4f}, val loss: {:.4f}\".format(\n",
    "                    epoch_num, results['lrs'][-1], results['train loss'], results['val loss']))\n",
    "            else:\n",
    "                print(\"Epoch[{}] -> TRAIN LOSS : {:.4f} | VALIDATION LOSS : {:.4f}\".format(\n",
    "                    epoch_num, results[\"train loss\"], results[\"val loss\"]))\n",
    "\n",
    "    @torch.no_grad()\n",
    "    def evaluate(self, val_dl):\n",
    "        self.eval()\n",
    "        outputs = [self.validation_step(batch) for batch in val_dl]\n",
    "        return self.validation_epoch_end(outputs)"
   ]
  },
  {
   "cell_type": "code",
   "execution_count": 806,
   "id": "4c13df5a",
   "metadata": {},
   "outputs": [],
   "source": [
    "def linear_block(in_channels, out_channels):\n",
    "    layers = [\n",
    "        nn.Linear(in_channels, out_channels),\n",
    "        nn.BatchNorm1d(out_channels),\n",
    "        nn.ReLU(inplace=True)\n",
    "    ]\n",
    "    return nn.Sequential(*layers)\n",
    "\n",
    "class NetworkArchitecture(LinearRegression):\n",
    "    def __init__(self):\n",
    "        super().__init__()\n",
    "        self.linear1 = linear_block(len(train_ds[0][0]), 50)\n",
    "        self.linear2 = linear_block(50, 25)\n",
    "        self.linear3 = linear_block(25, 10)\n",
    "        self.classifier = nn.Linear(10, 1)\n",
    "    \n",
    "    def forward(self, xb):\n",
    "        out = self.linear1(xb.float())\n",
    "        out = self.linear2(out)\n",
    "        out = self.linear3(out)\n",
    "        out = self.classifier(out)\n",
    "        return out   "
   ]
  },
  {
   "cell_type": "code",
   "execution_count": 807,
   "id": "0f28e372",
   "metadata": {},
   "outputs": [
    {
     "data": {
      "text/plain": [
       "NetworkArchitecture(\n",
       "  (linear1): Sequential(\n",
       "    (0): Linear(in_features=26, out_features=50, bias=True)\n",
       "    (1): BatchNorm1d(50, eps=1e-05, momentum=0.1, affine=True, track_running_stats=True)\n",
       "    (2): ReLU(inplace=True)\n",
       "  )\n",
       "  (linear2): Sequential(\n",
       "    (0): Linear(in_features=50, out_features=25, bias=True)\n",
       "    (1): BatchNorm1d(25, eps=1e-05, momentum=0.1, affine=True, track_running_stats=True)\n",
       "    (2): ReLU(inplace=True)\n",
       "  )\n",
       "  (linear3): Sequential(\n",
       "    (0): Linear(in_features=25, out_features=10, bias=True)\n",
       "    (1): BatchNorm1d(10, eps=1e-05, momentum=0.1, affine=True, track_running_stats=True)\n",
       "    (2): ReLU(inplace=True)\n",
       "  )\n",
       "  (classifier): Linear(in_features=10, out_features=1, bias=True)\n",
       ")"
      ]
     },
     "execution_count": 807,
     "metadata": {},
     "output_type": "execute_result"
    }
   ],
   "source": [
    "model_f = NetworkArchitecture()\n",
    "model_foc = NetworkArchitecture()\n",
    "model_f"
   ]
  },
  {
   "cell_type": "markdown",
   "id": "9d17f6c7",
   "metadata": {},
   "source": [
    "- Training using fit"
   ]
  },
  {
   "cell_type": "code",
   "execution_count": 808,
   "id": "3c622a16",
   "metadata": {},
   "outputs": [],
   "source": [
    "def fit(epoch_num,lr,model,train_dl,val_dl,optim_func):\n",
    "    optimizer = optim_func(model.parameters(),lr)\n",
    "    history = []\n",
    "    for epoch in range(epoch_num):\n",
    "        train_losses = []\n",
    "        for batch in train_dl:\n",
    "            loss = model.training_step(batch)\n",
    "            train_losses.append(loss)\n",
    "            loss.backward()\n",
    "            optimizer.step()\n",
    "            optimizer.zero_grad()\n",
    "        results = model.evaluate(val_dl)\n",
    "        results[\"train loss\"] = torch.stack(train_losses).mean()\n",
    "        model.epoch_end(epoch,results,fit_one_cycle=False)\n",
    "        history.append(results)\n",
    "    return history"
   ]
  },
  {
   "cell_type": "code",
   "execution_count": 809,
   "id": "c9166393",
   "metadata": {},
   "outputs": [
    {
     "data": {
      "text/plain": [
       "{'val loss': 25.880769729614258}"
      ]
     },
     "execution_count": 809,
     "metadata": {},
     "output_type": "execute_result"
    }
   ],
   "source": [
    "model_f.evaluate(val_dl)"
   ]
  },
  {
   "cell_type": "code",
   "execution_count": 810,
   "id": "b700c017",
   "metadata": {},
   "outputs": [],
   "source": [
    "num_epochs = 40\n",
    "opt_func = torch.optim.Adam\n",
    "lr = 0.1"
   ]
  },
  {
   "cell_type": "code",
   "execution_count": 811,
   "id": "35a2a59a",
   "metadata": {
    "scrolled": true
   },
   "outputs": [
    {
     "name": "stdout",
     "output_type": "stream",
     "text": [
      "Epoch[0] -> TRAIN LOSS : 71.5632 | VALIDATION LOSS : 21.2898\n",
      "Epoch[2] -> TRAIN LOSS : 17.5978 | VALIDATION LOSS : 21.3661\n",
      "Epoch[4] -> TRAIN LOSS : 17.6338 | VALIDATION LOSS : 21.9599\n",
      "Epoch[6] -> TRAIN LOSS : 17.7144 | VALIDATION LOSS : 21.2448\n",
      "Epoch[8] -> TRAIN LOSS : 18.1605 | VALIDATION LOSS : 22.1960\n",
      "Epoch[10] -> TRAIN LOSS : 17.4553 | VALIDATION LOSS : 21.9165\n",
      "Epoch[12] -> TRAIN LOSS : 17.7972 | VALIDATION LOSS : 21.2399\n",
      "Epoch[14] -> TRAIN LOSS : 17.4313 | VALIDATION LOSS : 21.3831\n",
      "Epoch[16] -> TRAIN LOSS : 17.5008 | VALIDATION LOSS : 21.6511\n",
      "Epoch[18] -> TRAIN LOSS : 17.5067 | VALIDATION LOSS : 22.2016\n",
      "Epoch[20] -> TRAIN LOSS : 17.5166 | VALIDATION LOSS : 21.6312\n",
      "Epoch[22] -> TRAIN LOSS : 17.4916 | VALIDATION LOSS : 21.8443\n",
      "Epoch[24] -> TRAIN LOSS : 17.5724 | VALIDATION LOSS : 21.4409\n",
      "Epoch[26] -> TRAIN LOSS : 17.5269 | VALIDATION LOSS : 21.4016\n",
      "Epoch[28] -> TRAIN LOSS : 17.5056 | VALIDATION LOSS : 21.4085\n",
      "Epoch[30] -> TRAIN LOSS : 17.7044 | VALIDATION LOSS : 21.2477\n",
      "Epoch[32] -> TRAIN LOSS : 17.5194 | VALIDATION LOSS : 21.6860\n",
      "Epoch[34] -> TRAIN LOSS : 17.5059 | VALIDATION LOSS : 21.4697\n",
      "Epoch[36] -> TRAIN LOSS : 17.4564 | VALIDATION LOSS : 21.4578\n",
      "Epoch[38] -> TRAIN LOSS : 17.4934 | VALIDATION LOSS : 21.3078\n"
     ]
    }
   ],
   "source": [
    "history = fit(num_epochs, lr, model_f, train_dl, val_dl, opt_func)"
   ]
  },
  {
   "cell_type": "code",
   "execution_count": 812,
   "id": "621a6062",
   "metadata": {},
   "outputs": [],
   "source": [
    "def plot_accuracies(history):\n",
    "    mae = [x['val loss'] for x in history]\n",
    "    plt.plot(mae, '-x')\n",
    "    plt.xlabel('epoch')\n",
    "    plt.ylabel('mae')\n",
    "    plt.title('mae vs. No. of epochs');"
   ]
  },
  {
   "cell_type": "code",
   "execution_count": 813,
   "id": "dba6ea02",
   "metadata": {},
   "outputs": [
    {
     "data": {
      "image/png": "[encoded data removed]",
      "text/plain": [
       "<Figure size 432x288 with 1 Axes>"
      ]
     },
     "metadata": {
      "needs_background": "light"
     },
     "output_type": "display_data"
    }
   ],
   "source": [
    "plot_accuracies(history)"
   ]
  },
  {
   "cell_type": "code",
   "execution_count": 814,
   "id": "b43f6d7d",
   "metadata": {},
   "outputs": [],
   "source": [
    "def plot_losses(history):\n",
    "    train_losses = [x.get('train loss').detach().numpy() for x in history]\n",
    "    val_losses = [x['val loss'].detach().numpy() if isinstance(x['val loss'], torch.Tensor) else x['val loss'] for x in history]\n",
    "    plt.plot(train_losses, '-bx')\n",
    "    plt.plot(val_losses, '-rx')\n",
    "    plt.xlabel('epoch')\n",
    "    plt.ylabel('loss')\n",
    "    plt.legend(['Training', 'Validation'])\n",
    "    plt.title('Loss vs. No. of epochs')\n",
    "    plt.show()"
   ]
  },
  {
   "cell_type": "code",
   "execution_count": 815,
   "id": "cf4a8ca0",
   "metadata": {
    "scrolled": true
   },
   "outputs": [
    {
     "data": {
      "image/png": "[encoded data removed]",
      "text/plain": [
       "<Figure size 432x288 with 1 Axes>"
      ]
     },
     "metadata": {
      "needs_background": "light"
     },
     "output_type": "display_data"
    }
   ],
   "source": [
    "plot_losses(history)"
   ]
  },
  {
   "cell_type": "markdown",
   "id": "8dbcf971",
   "metadata": {},
   "source": [
    "- Training using fit one cycle"
   ]
  },
  {
   "cell_type": "code",
   "execution_count": 816,
   "id": "2b8b1bac",
   "metadata": {},
   "outputs": [],
   "source": [
    "def get_lr(optimizer):\n",
    "    for param_group in optimizer.param_groups:\n",
    "        return param_group['lr']\n",
    "\n",
    "def fit_one_cycle(epochs, max_lr, model, train_loader, val_loader, \n",
    "                  weight_decay=0, grad_clip=None, opt_func=torch.optim.SGD):\n",
    "    torch.cuda.empty_cache()\n",
    "    history = []\n",
    "    \n",
    "    optimizer = opt_func(model.parameters(), max_lr, weight_decay=weight_decay)\n",
    "\n",
    "    sched = torch.optim.lr_scheduler.OneCycleLR(optimizer, max_lr, epochs=epochs, \n",
    "                                                steps_per_epoch=len(train_loader))\n",
    "    \n",
    "    for epoch in range(epochs): \n",
    "        model.train()\n",
    "        train_losses = []\n",
    "        lrs = []\n",
    "        for batch in train_loader:\n",
    "            loss = model.training_step(batch)\n",
    "            train_losses.append(loss)\n",
    "            loss.backward()\n",
    "            if grad_clip: \n",
    "                nn.utils.clip_grad_value_(model.parameters(), grad_clip)\n",
    "            optimizer.step()\n",
    "            optimizer.zero_grad()\n",
    "            lrs.append(get_lr(optimizer))\n",
    "            sched.step()\n",
    "        result = model.evaluate(val_loader)\n",
    "        result['train loss'] = torch.stack(train_losses).mean().item()\n",
    "        result['lrs'] = lrs\n",
    "        model.epoch_end(epoch, result,fit_one_cycle=True)\n",
    "        history.append(result)\n",
    "    return history"
   ]
  },
  {
   "cell_type": "code",
   "execution_count": 817,
   "id": "8bd6f806",
   "metadata": {},
   "outputs": [
    {
     "data": {
      "text/plain": [
       "[{'val loss': 26.25972557067871}]"
      ]
     },
     "execution_count": 817,
     "metadata": {},
     "output_type": "execute_result"
    }
   ],
   "source": [
    "history_foc = [model_foc.evaluate(val_dl)]\n",
    "history_foc"
   ]
  },
  {
   "cell_type": "code",
   "execution_count": 818,
   "id": "3c64e246",
   "metadata": {},
   "outputs": [],
   "source": [
    "epochs = 40\n",
    "max_lr = 0.01\n",
    "grad_clip = 0.1\n",
    "weight_decay = 1e-4\n",
    "opt_func = torch.optim.Adam"
   ]
  },
  {
   "cell_type": "code",
   "execution_count": 819,
   "id": "0a78fc89",
   "metadata": {},
   "outputs": [
    {
     "name": "stdout",
     "output_type": "stream",
     "text": [
      "Epoch [0], last_lr: 0.00053, train loss: 23.1773, val loss: 27.2611\n",
      "Epoch [2], last_lr: 0.00173, train loss: 23.0436, val loss: 24.8262\n",
      "Epoch [4], last_lr: 0.00388, train loss: 22.7566, val loss: 25.9391\n",
      "Epoch [6], last_lr: 0.00639, train loss: 22.2716, val loss: 23.1251\n",
      "Epoch [8], last_lr: 0.00857, train loss: 21.3394, val loss: 21.6400\n",
      "Epoch [10], last_lr: 0.00983, train loss: 20.0963, val loss: 23.1277\n",
      "Epoch [12], last_lr: 0.00997, train loss: 18.7093, val loss: 22.1548\n",
      "Epoch [14], last_lr: 0.00972, train loss: 17.7827, val loss: 21.3523\n",
      "Epoch [16], last_lr: 0.00923, train loss: 17.4786, val loss: 21.6201\n",
      "Epoch [18], last_lr: 0.00854, train loss: 17.4701, val loss: 21.3421\n",
      "Epoch [20], last_lr: 0.00766, train loss: 17.4764, val loss: 21.4841\n",
      "Epoch [22], last_lr: 0.00665, train loss: 17.4230, val loss: 21.3067\n",
      "Epoch [24], last_lr: 0.00556, train loss: 17.4403, val loss: 21.3207\n",
      "Epoch [26], last_lr: 0.00444, train loss: 17.4629, val loss: 21.2949\n",
      "Epoch [28], last_lr: 0.00335, train loss: 17.4435, val loss: 21.2515\n",
      "Epoch [30], last_lr: 0.00234, train loss: 17.4759, val loss: 21.2789\n",
      "Epoch [32], last_lr: 0.00146, train loss: 17.4571, val loss: 21.4243\n",
      "Epoch [34], last_lr: 0.00077, train loss: 17.4785, val loss: 21.4519\n",
      "Epoch [36], last_lr: 0.00028, train loss: 17.4462, val loss: 21.4592\n",
      "Epoch [38], last_lr: 0.00003, train loss: 17.4407, val loss: 21.4766\n",
      "CPU times: total: 1.58 s\n",
      "Wall time: 1.39 s\n"
     ]
    }
   ],
   "source": [
    "%%time\n",
    "history_foc += fit_one_cycle(epochs, max_lr, model_foc,\n",
    "                         train_dl, val_dl, \n",
    "                         grad_clip = grad_clip, \n",
    "                         weight_decay = weight_decay, \n",
    "                         opt_func = opt_func)"
   ]
  },
  {
   "cell_type": "code",
   "execution_count": 820,
   "id": "9b8bf925",
   "metadata": {},
   "outputs": [],
   "source": [
    "def plot_accuracies(history):\n",
    "    accuracies = [x['val loss'] for x in history]\n",
    "    plt.plot(accuracies, '-x')\n",
    "    plt.xlabel('epoch')\n",
    "    plt.ylabel('mse')\n",
    "    plt.title('mse vs. No. of epochs');"
   ]
  },
  {
   "cell_type": "code",
   "execution_count": 821,
   "id": "2f1e492c",
   "metadata": {},
   "outputs": [
    {
     "data": {
      "image/png": "[encoded data removed]",
      "text/plain": [
       "<Figure size 432x288 with 1 Axes>"
      ]
     },
     "metadata": {
      "needs_background": "light"
     },
     "output_type": "display_data"
    }
   ],
   "source": [
    "plot_accuracies(history_foc)"
   ]
  },
  {
   "cell_type": "code",
   "execution_count": 822,
   "id": "e03be887",
   "metadata": {},
   "outputs": [],
   "source": [
    "def plot_losses(history):\n",
    "    train_losses = [x.get('train loss') for x in history]\n",
    "    val_losses = [x['val loss'] for x in history]\n",
    "    plt.plot(train_losses, '-bx')\n",
    "    plt.plot(val_losses, '-rx')\n",
    "    plt.xlabel('epoch')\n",
    "    plt.ylabel('loss')\n",
    "    plt.legend(['Training', 'Validation'])\n",
    "    plt.title('Loss vs. No. of epochs');"
   ]
  },
  {
   "cell_type": "code",
   "execution_count": 823,
   "id": "e4d219e6",
   "metadata": {},
   "outputs": [
    {
     "data": {
      "image/png": "[encoded data removed]",
      "text/plain": [
       "<Figure size 432x288 with 1 Axes>"
      ]
     },
     "metadata": {
      "needs_background": "light"
     },
     "output_type": "display_data"
    }
   ],
   "source": [
    "plot_losses(history_foc)"
   ]
  },
  {
   "cell_type": "code",
   "execution_count": 824,
   "id": "e68260a1",
   "metadata": {},
   "outputs": [],
   "source": [
    "def plot_lrs(history):\n",
    "    lrs = np.concatenate([x.get('lrs', []) for x in history])\n",
    "    plt.plot(lrs)\n",
    "    plt.xlabel('Batch no.')\n",
    "    plt.ylabel('Learning rate')\n",
    "    plt.title('Learning Rate vs. Batch no.');"
   ]
  },
  {
   "cell_type": "code",
   "execution_count": 825,
   "id": "812740c1",
   "metadata": {
    "scrolled": true
   },
   "outputs": [
    {
     "data": {
      "image/png": "[encoded data removed]",
      "text/plain": [
       "<Figure size 432x288 with 1 Axes>"
      ]
     },
     "metadata": {
      "needs_background": "light"
     },
     "output_type": "display_data"
    }
   ],
   "source": [
    "plot_lrs(history_foc)"
   ]
  },
  {
   "cell_type": "markdown",
   "id": "2cc351a4",
   "metadata": {},
   "source": [
    "- Saving the w&b"
   ]
  },
  {
   "cell_type": "code",
   "execution_count": 826,
   "id": "d062587c",
   "metadata": {},
   "outputs": [],
   "source": [
    "folder_path = 'C:/Data/Study/Ai_adventures/Projects/Machine_Learning/Regression/DengAi_Disease spread prediction/models/'\n",
    "torch.save(model_foc.state_dict(), folder_path + 'model_weights.pth')"
   ]
  },
  {
   "cell_type": "markdown",
   "id": "528004ad",
   "metadata": {},
   "source": [
    "- Reloading the w&b"
   ]
  },
  {
   "cell_type": "code",
   "execution_count": 827,
   "id": "1b4b5e11",
   "metadata": {},
   "outputs": [],
   "source": [
    "model = NetworkArchitecture()"
   ]
  },
  {
   "cell_type": "code",
   "execution_count": 828,
   "id": "95ebe3c0",
   "metadata": {},
   "outputs": [
    {
     "data": {
      "text/plain": [
       "<All keys matched successfully>"
      ]
     },
     "execution_count": 828,
     "metadata": {},
     "output_type": "execute_result"
    }
   ],
   "source": [
    "folder_path = 'C:/Data/Study/Ai_adventures/Projects/Machine_Learning/Regression/DengAi_Disease spread prediction/models/'\n",
    "model_weights_path = folder_path + 'model_weights.pth'\n",
    "model.load_state_dict(torch.load(model_weights_path))"
   ]
  },
  {
   "cell_type": "code",
   "execution_count": 829,
   "id": "1b2fb601",
   "metadata": {
    "scrolled": false
   },
   "outputs": [
    {
     "data": {
      "text/plain": [
       "NetworkArchitecture(\n",
       "  (linear1): Sequential(\n",
       "    (0): Linear(in_features=26, out_features=50, bias=True)\n",
       "    (1): BatchNorm1d(50, eps=1e-05, momentum=0.1, affine=True, track_running_stats=True)\n",
       "    (2): ReLU(inplace=True)\n",
       "  )\n",
       "  (linear2): Sequential(\n",
       "    (0): Linear(in_features=50, out_features=25, bias=True)\n",
       "    (1): BatchNorm1d(25, eps=1e-05, momentum=0.1, affine=True, track_running_stats=True)\n",
       "    (2): ReLU(inplace=True)\n",
       "  )\n",
       "  (linear3): Sequential(\n",
       "    (0): Linear(in_features=25, out_features=10, bias=True)\n",
       "    (1): BatchNorm1d(10, eps=1e-05, momentum=0.1, affine=True, track_running_stats=True)\n",
       "    (2): ReLU(inplace=True)\n",
       "  )\n",
       "  (classifier): Linear(in_features=10, out_features=1, bias=True)\n",
       ")"
      ]
     },
     "execution_count": 829,
     "metadata": {},
     "output_type": "execute_result"
    }
   ],
   "source": [
    "model"
   ]
  },
  {
   "cell_type": "code",
   "execution_count": 863,
   "id": "4ce60e6b",
   "metadata": {},
   "outputs": [],
   "source": [
    "new_data_path = os.path.join(output_dir, \"processed_new_data.pkl\")\n",
    "with open(new_data_path, \"rb\") as file:\n",
    "    new_processed_data = pickle.load(file)"
   ]
  },
  {
   "cell_type": "code",
   "execution_count": 864,
   "id": "5f51be1c",
   "metadata": {},
   "outputs": [
    {
     "data": {
      "text/plain": [
       "array([[ 1.        ,  4.        ,  1.        , ...,  0.47621475,\n",
       "        -0.37673326,  1.49946502],\n",
       "       [ 1.        ,  5.        ,  1.        , ..., -1.1866963 ,\n",
       "        -0.04714703,  0.57625066],\n",
       "       [ 1.        ,  5.        ,  1.        , ...,  0.18958813,\n",
       "         0.35127898, -1.28363044],\n",
       "       ...,\n",
       "       [ 0.        ,  6.        ,  1.        , ...,  0.07945559,\n",
       "        -0.44240499,  1.74396776],\n",
       "       [ 0.        ,  6.        ,  1.        , ..., -0.13371598,\n",
       "        -0.31098406,  0.56938602],\n",
       "       [ 0.        ,  6.        ,  1.        , ...,  0.07945559,\n",
       "        -0.17924068, -0.34357945]])"
      ]
     },
     "execution_count": 864,
     "metadata": {},
     "output_type": "execute_result"
    }
   ],
   "source": [
    "new_processed_data"
   ]
  },
  {
   "cell_type": "code",
   "execution_count": 856,
   "id": "bb5a58c4",
   "metadata": {},
   "outputs": [],
   "source": [
    "new_processed_data = torch.tensor(new_processed_data)"
   ]
  },
  {
   "cell_type": "code",
   "execution_count": 857,
   "id": "7eae2e55",
   "metadata": {},
   "outputs": [],
   "source": [
    "test_dl = DataLoader(new_processed_data,batch_size)"
   ]
  },
  {
   "cell_type": "code",
   "execution_count": 861,
   "id": "07eb823e",
   "metadata": {},
   "outputs": [
    {
     "name": "stdout",
     "output_type": "stream",
     "text": [
      "torch.Size([100, 22])\n"
     ]
    }
   ],
   "source": [
    "for xb in test_dl:\n",
    "    print(xb.shape)\n",
    "    break"
   ]
  },
  {
   "cell_type": "code",
   "execution_count": 865,
   "id": "ef430656",
   "metadata": {},
   "outputs": [],
   "source": [
    "# model.eval()\n",
    "# predictions = []\n",
    "# labels = []\n",
    "# with torch.no_grad(): \n",
    "#     for xb in test_dl:\n",
    "#         outputs = model(xb)\n",
    "#         predictions.append(outputs)\n",
    "        \n",
    "# # predictions = torch.cat(predictions, dim=0)\n",
    "# # predictions = predictions.view(-1, 1)  \n",
    "# # predictions = predictions.to(dtype=float)\n",
    "\n",
    "# # labels = torch.cat(labels, dim=0)\n",
    "# predictions"
   ]
  }
 ],
 "metadata": {
  "kernelspec": {
   "display_name": "Python 3 (ipykernel)",
   "language": "python",
   "name": "python3"
  },
  "language_info": {
   "codemirror_mode": {
    "name": "ipython",
    "version": 3
   },
   "file_extension": ".py",
   "mimetype": "text/x-python",
   "name": "python",
   "nbconvert_exporter": "python",
   "pygments_lexer": "ipython3",
   "version": "3.10.0"
  }
 },
 "nbformat": 4,
 "nbformat_minor": 5
}
