{
 "cells": [
  {
   "cell_type": "markdown",
   "id": "cb86c936",
   "metadata": {},
   "source": [
    "**04: Model development**"
   ]
  },
  {
   "cell_type": "markdown",
   "id": "22ef5d7f",
   "metadata": {},
   "source": [
    "Importing required modules"
   ]
  },
  {
   "cell_type": "code",
   "execution_count": 1,
   "id": "78afbb88",
   "metadata": {},
   "outputs": [],
   "source": [
    "import numpy as np\n",
    "import pandas as pd\n",
    "\n",
    "from sklearn.model_selection import train_test_split, KFold\n",
    "from sklearn.neighbors import KNeighborsRegressor\n",
    "from sklearn.svm import SVR\n",
    "from sklearn.tree import DecisionTreeRegressor\n",
    "from sklearn.linear_model import LinearRegression\n",
    "from sklearn.ensemble import RandomForestRegressor, GradientBoostingRegressor, VotingRegressor\n",
    "from sklearn.model_selection import RandomizedSearchCV\n",
    "from sklearn.metrics import mean_squared_error, mean_absolute_error, r2_score\n",
    "\n",
    "#extra\n",
    "import os\n",
    "import pickle\n",
    "import datetime\n",
    "import warnings"
   ]
  },
  {
   "cell_type": "code",
   "execution_count": 2,
   "id": "3076d17e",
   "metadata": {},
   "outputs": [],
   "source": [
    "pd.set_option('display.max_columns', None)\n",
    "warnings.filterwarnings(\"ignore\")"
   ]
  },
  {
   "cell_type": "markdown",
   "id": "e11cbf6f",
   "metadata": {},
   "source": [
    "Directory variables"
   ]
  },
  {
   "cell_type": "code",
   "execution_count": 3,
   "id": "bab7769e",
   "metadata": {},
   "outputs": [],
   "source": [
    "transformed_data_path = r\"C:\\Data\\Study\\Ai_adventures\\Projects\\Machine_Learning\\Regression\\DengAi_Disease spread prediction\\outputs\\transformed_data.pkl\"\n",
    "outputs = r\"C:\\Data\\Study\\Ai_adventures\\Projects\\Machine_Learning\\Regression\\DengAi_Disease spread prediction\\models\""
   ]
  },
  {
   "cell_type": "markdown",
   "id": "6577ada5",
   "metadata": {},
   "source": [
    "Loading data"
   ]
  },
  {
   "cell_type": "code",
   "execution_count": 4,
   "id": "ff51372a",
   "metadata": {},
   "outputs": [],
   "source": [
    "def load_transformed_data(file_path):\n",
    "    with open(file_path, \"rb\") as file:\n",
    "        return pickle.load(file)"
   ]
  },
  {
   "cell_type": "code",
   "execution_count": 5,
   "id": "ca05945f",
   "metadata": {},
   "outputs": [
    {
     "data": {
      "text/html": [
       "<div>\n",
       "<style scoped>\n",
       "    .dataframe tbody tr th:only-of-type {\n",
       "        vertical-align: middle;\n",
       "    }\n",
       "\n",
       "    .dataframe tbody tr th {\n",
       "        vertical-align: top;\n",
       "    }\n",
       "\n",
       "    .dataframe thead th {\n",
       "        text-align: right;\n",
       "    }\n",
       "</style>\n",
       "<table border=\"1\" class=\"dataframe\">\n",
       "  <thead>\n",
       "    <tr style=\"text-align: right;\">\n",
       "      <th></th>\n",
       "      <th>city</th>\n",
       "      <th>day</th>\n",
       "      <th>month</th>\n",
       "      <th>day_of_week</th>\n",
       "      <th>year</th>\n",
       "      <th>weekofyear</th>\n",
       "      <th>ndvi_ne</th>\n",
       "      <th>ndvi_nw</th>\n",
       "      <th>ndvi_se</th>\n",
       "      <th>ndvi_sw</th>\n",
       "      <th>precipitation_amt_mm</th>\n",
       "      <th>reanalysis_air_temp_k</th>\n",
       "      <th>reanalysis_avg_temp_k</th>\n",
       "      <th>reanalysis_dew_point_temp_k</th>\n",
       "      <th>reanalysis_max_air_temp_k</th>\n",
       "      <th>reanalysis_min_air_temp_k</th>\n",
       "      <th>reanalysis_precip_amt_kg_per_m2</th>\n",
       "      <th>reanalysis_relative_humidity_percent</th>\n",
       "      <th>reanalysis_sat_precip_amt_mm</th>\n",
       "      <th>reanalysis_specific_humidity_g_per_kg</th>\n",
       "      <th>reanalysis_tdtr_k</th>\n",
       "      <th>station_avg_temp_c</th>\n",
       "      <th>station_diur_temp_rng_c</th>\n",
       "      <th>station_max_temp_c</th>\n",
       "      <th>station_min_temp_c</th>\n",
       "      <th>station_precip_mm</th>\n",
       "      <th>total_cases</th>\n",
       "    </tr>\n",
       "  </thead>\n",
       "  <tbody>\n",
       "    <tr>\n",
       "      <th>0</th>\n",
       "      <td>1</td>\n",
       "      <td>30</td>\n",
       "      <td>4</td>\n",
       "      <td>0</td>\n",
       "      <td>1990</td>\n",
       "      <td>18</td>\n",
       "      <td>-0.016536</td>\n",
       "      <td>-0.045015</td>\n",
       "      <td>0.110036</td>\n",
       "      <td>-0.082612</td>\n",
       "      <td>-0.744185</td>\n",
       "      <td>-0.943302</td>\n",
       "      <td>-1.214591</td>\n",
       "      <td>-1.619633</td>\n",
       "      <td>-1.387852</td>\n",
       "      <td>-0.329611</td>\n",
       "      <td>0.335308</td>\n",
       "      <td>-1.566752</td>\n",
       "      <td>-0.744185</td>\n",
       "      <td>-1.587135</td>\n",
       "      <td>-0.368641</td>\n",
       "      <td>-1.291053</td>\n",
       "      <td>-0.300128</td>\n",
       "      <td>-1.448836</td>\n",
       "      <td>-1.484469</td>\n",
       "      <td>-0.272887</td>\n",
       "      <td>4</td>\n",
       "    </tr>\n",
       "    <tr>\n",
       "      <th>1</th>\n",
       "      <td>1</td>\n",
       "      <td>7</td>\n",
       "      <td>5</td>\n",
       "      <td>0</td>\n",
       "      <td>1990</td>\n",
       "      <td>19</td>\n",
       "      <td>0.377020</td>\n",
       "      <td>0.301500</td>\n",
       "      <td>-0.478241</td>\n",
       "      <td>-0.436839</td>\n",
       "      <td>-0.314551</td>\n",
       "      <td>-0.487879</td>\n",
       "      <td>-0.700195</td>\n",
       "      <td>-0.930554</td>\n",
       "      <td>-0.676998</td>\n",
       "      <td>-0.111301</td>\n",
       "      <td>-0.408830</td>\n",
       "      <td>-0.523304</td>\n",
       "      <td>-0.314551</td>\n",
       "      <td>-0.930743</td>\n",
       "      <td>-0.651463</td>\n",
       "      <td>-0.492902</td>\n",
       "      <td>-0.749960</td>\n",
       "      <td>-0.388845</td>\n",
       "      <td>-0.047147</td>\n",
       "      <td>-0.800602</td>\n",
       "      <td>5</td>\n",
       "    </tr>\n",
       "    <tr>\n",
       "      <th>2</th>\n",
       "      <td>1</td>\n",
       "      <td>14</td>\n",
       "      <td>5</td>\n",
       "      <td>0</td>\n",
       "      <td>1990</td>\n",
       "      <td>20</td>\n",
       "      <td>-0.792355</td>\n",
       "      <td>0.568155</td>\n",
       "      <td>-0.567387</td>\n",
       "      <td>-0.187652</td>\n",
       "      <td>0.097705</td>\n",
       "      <td>-0.071461</td>\n",
       "      <td>-0.367098</td>\n",
       "      <td>-0.035477</td>\n",
       "      <td>-0.919344</td>\n",
       "      <td>0.354113</td>\n",
       "      <td>0.061403</td>\n",
       "      <td>0.354093</td>\n",
       "      <td>0.097705</td>\n",
       "      <td>-0.045380</td>\n",
       "      <td>-0.738630</td>\n",
       "      <td>-0.492902</td>\n",
       "      <td>-0.645358</td>\n",
       "      <td>-0.133716</td>\n",
       "      <td>0.351279</td>\n",
       "      <td>0.798169</td>\n",
       "      <td>4</td>\n",
       "    </tr>\n",
       "    <tr>\n",
       "      <th>3</th>\n",
       "      <td>1</td>\n",
       "      <td>21</td>\n",
       "      <td>5</td>\n",
       "      <td>0</td>\n",
       "      <td>1990</td>\n",
       "      <td>21</td>\n",
       "      <td>0.034186</td>\n",
       "      <td>1.163593</td>\n",
       "      <td>0.537103</td>\n",
       "      <td>0.709611</td>\n",
       "      <td>-0.616682</td>\n",
       "      <td>0.081599</td>\n",
       "      <td>-0.090599</td>\n",
       "      <td>-0.124142</td>\n",
       "      <td>-0.400195</td>\n",
       "      <td>0.187881</td>\n",
       "      <td>-0.685225</td>\n",
       "      <td>0.075074</td>\n",
       "      <td>-0.616682</td>\n",
       "      <td>-0.164520</td>\n",
       "      <td>-0.584496</td>\n",
       "      <td>0.085830</td>\n",
       "      <td>-0.401578</td>\n",
       "      <td>0.476215</td>\n",
       "      <td>0.685422</td>\n",
       "      <td>-1.191951</td>\n",
       "      <td>3</td>\n",
       "    </tr>\n",
       "    <tr>\n",
       "      <th>4</th>\n",
       "      <td>1</td>\n",
       "      <td>28</td>\n",
       "      <td>5</td>\n",
       "      <td>0</td>\n",
       "      <td>1990</td>\n",
       "      <td>22</td>\n",
       "      <td>0.592251</td>\n",
       "      <td>1.300171</td>\n",
       "      <td>0.861593</td>\n",
       "      <td>0.847845</td>\n",
       "      <td>-0.967240</td>\n",
       "      <td>0.483642</td>\n",
       "      <td>0.267015</td>\n",
       "      <td>0.263463</td>\n",
       "      <td>-0.152622</td>\n",
       "      <td>0.471071</td>\n",
       "      <td>-0.810182</td>\n",
       "      <td>0.096439</td>\n",
       "      <td>-0.967240</td>\n",
       "      <td>0.215625</td>\n",
       "      <td>-0.025532</td>\n",
       "      <td>1.544761</td>\n",
       "      <td>0.952789</td>\n",
       "      <td>1.553328</td>\n",
       "      <td>1.088514</td>\n",
       "      <td>-1.032905</td>\n",
       "      <td>6</td>\n",
       "    </tr>\n",
       "  </tbody>\n",
       "</table>\n",
       "</div>"
      ],
      "text/plain": [
       "   city  day  month  day_of_week  year  weekofyear   ndvi_ne   ndvi_nw  \\\n",
       "0     1   30      4            0  1990          18 -0.016536 -0.045015   \n",
       "1     1    7      5            0  1990          19  0.377020  0.301500   \n",
       "2     1   14      5            0  1990          20 -0.792355  0.568155   \n",
       "3     1   21      5            0  1990          21  0.034186  1.163593   \n",
       "4     1   28      5            0  1990          22  0.592251  1.300171   \n",
       "\n",
       "    ndvi_se   ndvi_sw  precipitation_amt_mm  reanalysis_air_temp_k  \\\n",
       "0  0.110036 -0.082612             -0.744185              -0.943302   \n",
       "1 -0.478241 -0.436839             -0.314551              -0.487879   \n",
       "2 -0.567387 -0.187652              0.097705              -0.071461   \n",
       "3  0.537103  0.709611             -0.616682               0.081599   \n",
       "4  0.861593  0.847845             -0.967240               0.483642   \n",
       "\n",
       "   reanalysis_avg_temp_k  reanalysis_dew_point_temp_k  \\\n",
       "0              -1.214591                    -1.619633   \n",
       "1              -0.700195                    -0.930554   \n",
       "2              -0.367098                    -0.035477   \n",
       "3              -0.090599                    -0.124142   \n",
       "4               0.267015                     0.263463   \n",
       "\n",
       "   reanalysis_max_air_temp_k  reanalysis_min_air_temp_k  \\\n",
       "0                  -1.387852                  -0.329611   \n",
       "1                  -0.676998                  -0.111301   \n",
       "2                  -0.919344                   0.354113   \n",
       "3                  -0.400195                   0.187881   \n",
       "4                  -0.152622                   0.471071   \n",
       "\n",
       "   reanalysis_precip_amt_kg_per_m2  reanalysis_relative_humidity_percent  \\\n",
       "0                         0.335308                             -1.566752   \n",
       "1                        -0.408830                             -0.523304   \n",
       "2                         0.061403                              0.354093   \n",
       "3                        -0.685225                              0.075074   \n",
       "4                        -0.810182                              0.096439   \n",
       "\n",
       "   reanalysis_sat_precip_amt_mm  reanalysis_specific_humidity_g_per_kg  \\\n",
       "0                     -0.744185                              -1.587135   \n",
       "1                     -0.314551                              -0.930743   \n",
       "2                      0.097705                              -0.045380   \n",
       "3                     -0.616682                              -0.164520   \n",
       "4                     -0.967240                               0.215625   \n",
       "\n",
       "   reanalysis_tdtr_k  station_avg_temp_c  station_diur_temp_rng_c  \\\n",
       "0          -0.368641           -1.291053                -0.300128   \n",
       "1          -0.651463           -0.492902                -0.749960   \n",
       "2          -0.738630           -0.492902                -0.645358   \n",
       "3          -0.584496            0.085830                -0.401578   \n",
       "4          -0.025532            1.544761                 0.952789   \n",
       "\n",
       "   station_max_temp_c  station_min_temp_c  station_precip_mm  total_cases  \n",
       "0           -1.448836           -1.484469          -0.272887            4  \n",
       "1           -0.388845           -0.047147          -0.800602            5  \n",
       "2           -0.133716            0.351279           0.798169            4  \n",
       "3            0.476215            0.685422          -1.191951            3  \n",
       "4            1.553328            1.088514          -1.032905            6  "
      ]
     },
     "execution_count": 5,
     "metadata": {},
     "output_type": "execute_result"
    }
   ],
   "source": [
    "data = load_transformed_data(transformed_data_path)\n",
    "data.head()"
   ]
  },
  {
   "cell_type": "markdown",
   "id": "6bd67289",
   "metadata": {},
   "source": [
    "Features and labels"
   ]
  },
  {
   "cell_type": "code",
   "execution_count": 6,
   "id": "65d05b3d",
   "metadata": {},
   "outputs": [
    {
     "data": {
      "text/plain": [
       "((1114, 26), (1114,))"
      ]
     },
     "execution_count": 6,
     "metadata": {},
     "output_type": "execute_result"
    }
   ],
   "source": [
    "X = data.drop(columns=[\"total_cases\"])\n",
    "y = data[\"total_cases\"]\n",
    "X.shape, y.shape"
   ]
  },
  {
   "cell_type": "markdown",
   "id": "0ba6f577",
   "metadata": {},
   "source": [
    "Splitting data"
   ]
  },
  {
   "cell_type": "code",
   "execution_count": 7,
   "id": "b4672891",
   "metadata": {},
   "outputs": [],
   "source": [
    "X_train, X_test, y_train, y_test = train_test_split(X,y,test_size=0.2,random_state=0)"
   ]
  },
  {
   "cell_type": "markdown",
   "id": "72b6a9ff",
   "metadata": {},
   "source": [
    "Model selection "
   ]
  },
  {
   "cell_type": "code",
   "execution_count": 8,
   "id": "31532394",
   "metadata": {},
   "outputs": [],
   "source": [
    "#we will examine performance on base models and tune top 2 models"
   ]
  },
  {
   "cell_type": "code",
   "execution_count": 9,
   "id": "290bf689",
   "metadata": {},
   "outputs": [],
   "source": [
    "models = [\n",
    "    (\"KNeighborsRegressor\", KNeighborsRegressor()),\n",
    "    (\"SVR\", SVR()),\n",
    "    (\"DecisionTreeRegressor\", DecisionTreeRegressor()),\n",
    "    (\"LinearRegression\", LinearRegression()),\n",
    "    (\"RandomForestRegressor\", RandomForestRegressor()),\n",
    "    (\"GradientBoostingRegressor\", GradientBoostingRegressor()),\n",
    "    (\"VotingRegressor\", VotingRegressor(estimators=[\n",
    "        (\"knn\", KNeighborsRegressor()),\n",
    "        (\"svr\", SVR()),\n",
    "        (\"dt\", DecisionTreeRegressor()),\n",
    "        (\"lr\", LinearRegression()),\n",
    "        (\"rf\", RandomForestRegressor()),\n",
    "        (\"gr\", GradientBoostingRegressor())\n",
    "    ]))\n",
    "]"
   ]
  },
  {
   "cell_type": "code",
   "execution_count": 10,
   "id": "9d2139f8",
   "metadata": {},
   "outputs": [],
   "source": [
    "# Evaluate models and store performance metrics\n",
    "model_metrics = []\n",
    "\n",
    "for model_name, model in models:\n",
    "    if isinstance(model, str):\n",
    "        continue\n",
    "    model.fit(X_train, y_train)\n",
    "    y_preds = model.predict(X_test)\n",
    "    mse = mean_squared_error(y_test, y_preds)\n",
    "    mae = mean_absolute_error(y_test, y_preds)\n",
    "    rmse = np.sqrt(mse)\n",
    "    r2 = r2_score(y_test, y_preds)\n",
    "    model_metrics.append({\n",
    "        \"Model_name\": model_name,\n",
    "        \"Model\":model,\n",
    "        \"MSE\": mse,\n",
    "        \"MAE\": mae,\n",
    "        \"RMSE\": rmse,\n",
    "        \"R2\": r2,\n",
    "    })"
   ]
  },
  {
   "cell_type": "code",
   "execution_count": 11,
   "id": "5a6c129f",
   "metadata": {},
   "outputs": [
    {
     "name": "stdout",
     "output_type": "stream",
     "text": [
      "Model Performance Summary:\n"
     ]
    },
    {
     "data": {
      "text/html": [
       "<div>\n",
       "<style scoped>\n",
       "    .dataframe tbody tr th:only-of-type {\n",
       "        vertical-align: middle;\n",
       "    }\n",
       "\n",
       "    .dataframe tbody tr th {\n",
       "        vertical-align: top;\n",
       "    }\n",
       "\n",
       "    .dataframe thead th {\n",
       "        text-align: right;\n",
       "    }\n",
       "</style>\n",
       "<table border=\"1\" class=\"dataframe\">\n",
       "  <thead>\n",
       "    <tr style=\"text-align: right;\">\n",
       "      <th></th>\n",
       "      <th>Model_name</th>\n",
       "      <th>Model</th>\n",
       "      <th>MSE</th>\n",
       "      <th>MAE</th>\n",
       "      <th>RMSE</th>\n",
       "      <th>R2</th>\n",
       "    </tr>\n",
       "  </thead>\n",
       "  <tbody>\n",
       "    <tr>\n",
       "      <th>4</th>\n",
       "      <td>RandomForestRegressor</td>\n",
       "      <td>(DecisionTreeRegressor(max_features='auto', ra...</td>\n",
       "      <td>302.697976</td>\n",
       "      <td>10.914170</td>\n",
       "      <td>17.398218</td>\n",
       "      <td>0.610705</td>\n",
       "    </tr>\n",
       "    <tr>\n",
       "      <th>5</th>\n",
       "      <td>GradientBoostingRegressor</td>\n",
       "      <td>([DecisionTreeRegressor(criterion='friedman_ms...</td>\n",
       "      <td>337.536058</td>\n",
       "      <td>11.345014</td>\n",
       "      <td>18.372154</td>\n",
       "      <td>0.565900</td>\n",
       "    </tr>\n",
       "    <tr>\n",
       "      <th>6</th>\n",
       "      <td>VotingRegressor</td>\n",
       "      <td>VotingRegressor(estimators=[('knn', KNeighbors...</td>\n",
       "      <td>429.433845</td>\n",
       "      <td>12.689953</td>\n",
       "      <td>20.722786</td>\n",
       "      <td>0.447712</td>\n",
       "    </tr>\n",
       "    <tr>\n",
       "      <th>2</th>\n",
       "      <td>DecisionTreeRegressor</td>\n",
       "      <td>DecisionTreeRegressor()</td>\n",
       "      <td>699.165919</td>\n",
       "      <td>14.869955</td>\n",
       "      <td>26.441746</td>\n",
       "      <td>0.100814</td>\n",
       "    </tr>\n",
       "    <tr>\n",
       "      <th>0</th>\n",
       "      <td>KNeighborsRegressor</td>\n",
       "      <td>KNeighborsRegressor()</td>\n",
       "      <td>582.365740</td>\n",
       "      <td>15.181166</td>\n",
       "      <td>24.132255</td>\n",
       "      <td>0.251029</td>\n",
       "    </tr>\n",
       "    <tr>\n",
       "      <th>1</th>\n",
       "      <td>SVR</td>\n",
       "      <td>SVR()</td>\n",
       "      <td>855.417094</td>\n",
       "      <td>17.035444</td>\n",
       "      <td>29.247514</td>\n",
       "      <td>-0.100138</td>\n",
       "    </tr>\n",
       "    <tr>\n",
       "      <th>3</th>\n",
       "      <td>LinearRegression</td>\n",
       "      <td>LinearRegression()</td>\n",
       "      <td>857.063081</td>\n",
       "      <td>18.499839</td>\n",
       "      <td>29.275640</td>\n",
       "      <td>-0.102255</td>\n",
       "    </tr>\n",
       "  </tbody>\n",
       "</table>\n",
       "</div>"
      ],
      "text/plain": [
       "                  Model_name  \\\n",
       "4      RandomForestRegressor   \n",
       "5  GradientBoostingRegressor   \n",
       "6            VotingRegressor   \n",
       "2      DecisionTreeRegressor   \n",
       "0        KNeighborsRegressor   \n",
       "1                        SVR   \n",
       "3           LinearRegression   \n",
       "\n",
       "                                               Model         MSE        MAE  \\\n",
       "4  (DecisionTreeRegressor(max_features='auto', ra...  302.697976  10.914170   \n",
       "5  ([DecisionTreeRegressor(criterion='friedman_ms...  337.536058  11.345014   \n",
       "6  VotingRegressor(estimators=[('knn', KNeighbors...  429.433845  12.689953   \n",
       "2                            DecisionTreeRegressor()  699.165919  14.869955   \n",
       "0                              KNeighborsRegressor()  582.365740  15.181166   \n",
       "1                                              SVR()  855.417094  17.035444   \n",
       "3                                 LinearRegression()  857.063081  18.499839   \n",
       "\n",
       "        RMSE        R2  \n",
       "4  17.398218  0.610705  \n",
       "5  18.372154  0.565900  \n",
       "6  20.722786  0.447712  \n",
       "2  26.441746  0.100814  \n",
       "0  24.132255  0.251029  \n",
       "1  29.247514 -0.100138  \n",
       "3  29.275640 -0.102255  "
      ]
     },
     "execution_count": 11,
     "metadata": {},
     "output_type": "execute_result"
    }
   ],
   "source": [
    "model_summary = pd.DataFrame(model_metrics)\n",
    "\n",
    "# Display model performance\n",
    "print(\"Model Performance Summary:\")\n",
    "model_summary.sort_values([\"MAE\",\"MSE\",\"RMSE\"])"
   ]
  },
  {
   "cell_type": "code",
   "execution_count": 12,
   "id": "9159d619",
   "metadata": {},
   "outputs": [],
   "source": [
    "# thus we will tune RandomForestRegressor and GradientBoostingRegressor"
   ]
  },
  {
   "cell_type": "code",
   "execution_count": 13,
   "id": "158cf504",
   "metadata": {},
   "outputs": [],
   "source": [
    "rf_param_grid = {\n",
    "    'n_estimators': [100, 200, 500],            \n",
    "    'max_depth': [None, 1, 3],           \n",
    "    'min_samples_split': [2, 5, 10],          \n",
    "    'min_samples_leaf': [1, 2, 4]              \n",
    "}"
   ]
  },
  {
   "cell_type": "code",
   "execution_count": 14,
   "id": "692c4be3",
   "metadata": {},
   "outputs": [],
   "source": [
    "gb_param_grid = {\n",
    "    'n_estimators': [100, 200, 500],           \n",
    "    'learning_rate': [0.01, 0.1, 0.2],         \n",
    "    'max_depth': [None, 1, 3],                  \n",
    "    'min_samples_split': [2, 3, 4],           \n",
    "    'min_samples_leaf': [1, 2, 3],           \n",
    "}"
   ]
  },
  {
   "cell_type": "code",
   "execution_count": 15,
   "id": "cdc8327a",
   "metadata": {},
   "outputs": [],
   "source": [
    "rf_rand_search = RandomizedSearchCV(RandomForestRegressor(), param_distributions=rf_param_grid, n_iter=10, cv=8)\n",
    "gb_rand_search = RandomizedSearchCV(GradientBoostingRegressor(), param_distributions=gb_param_grid, n_iter=10, cv=8)"
   ]
  },
  {
   "cell_type": "code",
   "execution_count": 16,
   "id": "7c7a5925",
   "metadata": {},
   "outputs": [
    {
     "data": {
      "text/plain": [
       "RandomizedSearchCV(cv=8, estimator=GradientBoostingRegressor(),\n",
       "                   param_distributions={'learning_rate': [0.01, 0.1, 0.2],\n",
       "                                        'max_depth': [None, 1, 3],\n",
       "                                        'min_samples_leaf': [1, 2, 3],\n",
       "                                        'min_samples_split': [2, 3, 4],\n",
       "                                        'n_estimators': [100, 200, 500]})"
      ]
     },
     "execution_count": 16,
     "metadata": {},
     "output_type": "execute_result"
    }
   ],
   "source": [
    "rf_rand_search.fit(X_train,y_train)\n",
    "gb_rand_search.fit(X_train,y_train)"
   ]
  },
  {
   "cell_type": "code",
   "execution_count": 17,
   "id": "44f97ebf",
   "metadata": {},
   "outputs": [
    {
     "name": "stdout",
     "output_type": "stream",
     "text": [
      "rf_rand_search best params: {'n_estimators': 500, 'min_samples_split': 2, 'min_samples_leaf': 2, 'max_depth': None}\n"
     ]
    }
   ],
   "source": [
    "print(f\"rf_rand_search best params: {rf_rand_search.best_params_}\")\n",
    "best_rf_model = rf_rand_search.best_estimator_"
   ]
  },
  {
   "cell_type": "code",
   "execution_count": 18,
   "id": "fb2b29be",
   "metadata": {},
   "outputs": [
    {
     "name": "stdout",
     "output_type": "stream",
     "text": [
      "gb_rand_search best params: {'n_estimators': 500, 'min_samples_split': 3, 'min_samples_leaf': 3, 'max_depth': 3, 'learning_rate': 0.01}\n"
     ]
    }
   ],
   "source": [
    "print(f\"gb_rand_search best params: {gb_rand_search.best_params_}\")\n",
    "best_gb_model = gb_rand_search.best_estimator_"
   ]
  },
  {
   "cell_type": "code",
   "execution_count": 19,
   "id": "ab639580",
   "metadata": {},
   "outputs": [],
   "source": [
    "model_list = [(model_name, model) for model_name, model in models]\n",
    "model_list.append((\"RandomForestRegressor_Tuned\", best_rf_model))\n",
    "model_list.append((\"GradientBoostingRegressor_Tuned\", best_gb_model))"
   ]
  },
  {
   "cell_type": "code",
   "execution_count": 20,
   "id": "041a4cd8",
   "metadata": {},
   "outputs": [],
   "source": [
    "model_metrics = []\n",
    "for model_name, model in model_list[-2:]:\n",
    "    if isinstance(model, str):\n",
    "        continue\n",
    "    model.fit(X_train, y_train)\n",
    "    y_preds = model.predict(X_test)\n",
    "    mse = mean_squared_error(y_test, y_preds)\n",
    "    mae = mean_absolute_error(y_test, y_preds)\n",
    "    rmse = np.sqrt(mse)\n",
    "    r2 = r2_score(y_test, y_preds)\n",
    "    model_metrics.append({\n",
    "        \"Model_name\": model_name,\n",
    "        \"Model\":model,\n",
    "        \"MSE\": mse,\n",
    "        \"MAE\": mae,\n",
    "        \"RMSE\": rmse,\n",
    "        \"R2\": r2,\n",
    "    })"
   ]
  },
  {
   "cell_type": "code",
   "execution_count": 21,
   "id": "54bd242f",
   "metadata": {},
   "outputs": [],
   "source": [
    "model_summary = pd.concat([model_summary,pd.DataFrame(model_metrics)],ignore_index=True)"
   ]
  },
  {
   "cell_type": "code",
   "execution_count": 22,
   "id": "ec4488f0",
   "metadata": {
    "scrolled": true
   },
   "outputs": [
    {
     "name": "stdout",
     "output_type": "stream",
     "text": [
      "Model Performance Summary:\n"
     ]
    },
    {
     "data": {
      "text/html": [
       "<div>\n",
       "<style scoped>\n",
       "    .dataframe tbody tr th:only-of-type {\n",
       "        vertical-align: middle;\n",
       "    }\n",
       "\n",
       "    .dataframe tbody tr th {\n",
       "        vertical-align: top;\n",
       "    }\n",
       "\n",
       "    .dataframe thead th {\n",
       "        text-align: right;\n",
       "    }\n",
       "</style>\n",
       "<table border=\"1\" class=\"dataframe\">\n",
       "  <thead>\n",
       "    <tr style=\"text-align: right;\">\n",
       "      <th></th>\n",
       "      <th>Model_name</th>\n",
       "      <th>Model</th>\n",
       "      <th>MSE</th>\n",
       "      <th>MAE</th>\n",
       "      <th>RMSE</th>\n",
       "      <th>R2</th>\n",
       "    </tr>\n",
       "  </thead>\n",
       "  <tbody>\n",
       "    <tr>\n",
       "      <th>8</th>\n",
       "      <td>GradientBoostingRegressor_Tuned</td>\n",
       "      <td>([DecisionTreeRegressor(criterion='friedman_ms...</td>\n",
       "      <td>297.167681</td>\n",
       "      <td>10.670331</td>\n",
       "      <td>17.238552</td>\n",
       "      <td>0.617818</td>\n",
       "    </tr>\n",
       "    <tr>\n",
       "      <th>4</th>\n",
       "      <td>RandomForestRegressor</td>\n",
       "      <td>(DecisionTreeRegressor(max_features='auto', ra...</td>\n",
       "      <td>302.697976</td>\n",
       "      <td>10.914170</td>\n",
       "      <td>17.398218</td>\n",
       "      <td>0.610705</td>\n",
       "    </tr>\n",
       "    <tr>\n",
       "      <th>7</th>\n",
       "      <td>RandomForestRegressor_Tuned</td>\n",
       "      <td>(DecisionTreeRegressor(max_features='auto', mi...</td>\n",
       "      <td>312.007628</td>\n",
       "      <td>10.940162</td>\n",
       "      <td>17.663738</td>\n",
       "      <td>0.598732</td>\n",
       "    </tr>\n",
       "    <tr>\n",
       "      <th>5</th>\n",
       "      <td>GradientBoostingRegressor</td>\n",
       "      <td>([DecisionTreeRegressor(criterion='friedman_ms...</td>\n",
       "      <td>337.536058</td>\n",
       "      <td>11.345014</td>\n",
       "      <td>18.372154</td>\n",
       "      <td>0.565900</td>\n",
       "    </tr>\n",
       "    <tr>\n",
       "      <th>6</th>\n",
       "      <td>VotingRegressor</td>\n",
       "      <td>VotingRegressor(estimators=[('knn', KNeighbors...</td>\n",
       "      <td>429.433845</td>\n",
       "      <td>12.689953</td>\n",
       "      <td>20.722786</td>\n",
       "      <td>0.447712</td>\n",
       "    </tr>\n",
       "    <tr>\n",
       "      <th>0</th>\n",
       "      <td>KNeighborsRegressor</td>\n",
       "      <td>KNeighborsRegressor()</td>\n",
       "      <td>582.365740</td>\n",
       "      <td>15.181166</td>\n",
       "      <td>24.132255</td>\n",
       "      <td>0.251029</td>\n",
       "    </tr>\n",
       "    <tr>\n",
       "      <th>2</th>\n",
       "      <td>DecisionTreeRegressor</td>\n",
       "      <td>DecisionTreeRegressor()</td>\n",
       "      <td>699.165919</td>\n",
       "      <td>14.869955</td>\n",
       "      <td>26.441746</td>\n",
       "      <td>0.100814</td>\n",
       "    </tr>\n",
       "    <tr>\n",
       "      <th>1</th>\n",
       "      <td>SVR</td>\n",
       "      <td>SVR()</td>\n",
       "      <td>855.417094</td>\n",
       "      <td>17.035444</td>\n",
       "      <td>29.247514</td>\n",
       "      <td>-0.100138</td>\n",
       "    </tr>\n",
       "    <tr>\n",
       "      <th>3</th>\n",
       "      <td>LinearRegression</td>\n",
       "      <td>LinearRegression()</td>\n",
       "      <td>857.063081</td>\n",
       "      <td>18.499839</td>\n",
       "      <td>29.275640</td>\n",
       "      <td>-0.102255</td>\n",
       "    </tr>\n",
       "  </tbody>\n",
       "</table>\n",
       "</div>"
      ],
      "text/plain": [
       "                        Model_name  \\\n",
       "8  GradientBoostingRegressor_Tuned   \n",
       "4            RandomForestRegressor   \n",
       "7      RandomForestRegressor_Tuned   \n",
       "5        GradientBoostingRegressor   \n",
       "6                  VotingRegressor   \n",
       "0              KNeighborsRegressor   \n",
       "2            DecisionTreeRegressor   \n",
       "1                              SVR   \n",
       "3                 LinearRegression   \n",
       "\n",
       "                                               Model         MSE        MAE  \\\n",
       "8  ([DecisionTreeRegressor(criterion='friedman_ms...  297.167681  10.670331   \n",
       "4  (DecisionTreeRegressor(max_features='auto', ra...  302.697976  10.914170   \n",
       "7  (DecisionTreeRegressor(max_features='auto', mi...  312.007628  10.940162   \n",
       "5  ([DecisionTreeRegressor(criterion='friedman_ms...  337.536058  11.345014   \n",
       "6  VotingRegressor(estimators=[('knn', KNeighbors...  429.433845  12.689953   \n",
       "0                              KNeighborsRegressor()  582.365740  15.181166   \n",
       "2                            DecisionTreeRegressor()  699.165919  14.869955   \n",
       "1                                              SVR()  855.417094  17.035444   \n",
       "3                                 LinearRegression()  857.063081  18.499839   \n",
       "\n",
       "        RMSE        R2  \n",
       "8  17.238552  0.617818  \n",
       "4  17.398218  0.610705  \n",
       "7  17.663738  0.598732  \n",
       "5  18.372154  0.565900  \n",
       "6  20.722786  0.447712  \n",
       "0  24.132255  0.251029  \n",
       "2  26.441746  0.100814  \n",
       "1  29.247514 -0.100138  \n",
       "3  29.275640 -0.102255  "
      ]
     },
     "execution_count": 22,
     "metadata": {},
     "output_type": "execute_result"
    }
   ],
   "source": [
    "# Display model performance\n",
    "print(\"Model Performance Summary:\")\n",
    "model_summary.sort_values([\"MAE\",\"MSE\",\"RMSE\"])"
   ]
  },
  {
   "cell_type": "code",
   "execution_count": 23,
   "id": "3b794d6a",
   "metadata": {},
   "outputs": [],
   "source": [
    "final_model = model_summary.nsmallest(1,columns=\"MAE\").Model.values.item()"
   ]
  },
  {
   "cell_type": "code",
   "execution_count": 24,
   "id": "0c841f3b",
   "metadata": {},
   "outputs": [
    {
     "data": {
      "text/plain": [
       "GradientBoostingRegressor(learning_rate=0.01, min_samples_leaf=3,\n",
       "                          min_samples_split=3, n_estimators=500)"
      ]
     },
     "execution_count": 24,
     "metadata": {},
     "output_type": "execute_result"
    }
   ],
   "source": [
    "final_model"
   ]
  },
  {
   "cell_type": "code",
   "execution_count": 25,
   "id": "43a3ac97",
   "metadata": {},
   "outputs": [
    {
     "name": "stdout",
     "output_type": "stream",
     "text": [
      "final model: GradientBoostingRegressor(learning_rate=0.01, min_samples_leaf=3,\n",
      "                          min_samples_split=3, n_estimators=500)\n"
     ]
    }
   ],
   "source": [
    "print(f\"final model: {final_model}\")"
   ]
  },
  {
   "cell_type": "markdown",
   "id": "2333f73a",
   "metadata": {},
   "source": [
    "Saving trained models with final model"
   ]
  },
  {
   "cell_type": "code",
   "execution_count": 26,
   "id": "a8286dca",
   "metadata": {},
   "outputs": [
    {
     "name": "stdout",
     "output_type": "stream",
     "text": [
      "Trained models saved successfully.\n"
     ]
    }
   ],
   "source": [
    "for model_name, model in model_list:\n",
    "    model_filename = os.path.join(outputs, f\"{model_name}.pkl\")\n",
    "    with open(model_filename, \"wb\") as model_file:\n",
    "        pickle.dump(model, model_file)\n",
    "print(\"Trained models saved successfully.\")"
   ]
  },
  {
   "cell_type": "code",
   "execution_count": 27,
   "id": "80092323",
   "metadata": {},
   "outputs": [],
   "source": [
    "with open(r\"C:\\Data\\Study\\Ai_adventures\\Projects\\Machine_Learning\\Regression\\DengAi_Disease spread prediction\\models\\final_model.pkl\",\"wb\") as file:\n",
    "    pickle.dump(final_model, file)"
   ]
  },
  {
   "cell_type": "code",
   "execution_count": null,
   "id": "03f00faf",
   "metadata": {},
   "outputs": [],
   "source": []
  }
 ],
 "metadata": {
  "kernelspec": {
   "display_name": "Python 3 (ipykernel)",
   "language": "python",
   "name": "python3"
  },
  "language_info": {
   "codemirror_mode": {
    "name": "ipython",
    "version": 3
   },
   "file_extension": ".py",
   "mimetype": "text/x-python",
   "name": "python",
   "nbconvert_exporter": "python",
   "pygments_lexer": "ipython3",
   "version": "3.10.0"
  }
 },
 "nbformat": 4,
 "nbformat_minor": 5
}
