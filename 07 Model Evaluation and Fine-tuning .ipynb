{
 "cells": [
  {
   "cell_type": "markdown",
   "id": "299fd7a2",
   "metadata": {},
   "source": [
    "**06 : Model Evaluation and deployment**"
   ]
  },
  {
   "cell_type": "markdown",
   "id": "d21987fb",
   "metadata": {},
   "source": [
    "Importing required modules"
   ]
  },
  {
   "cell_type": "code",
   "execution_count": 1,
   "id": "6fbad3a2",
   "metadata": {},
   "outputs": [],
   "source": [
    "import numpy as np\n",
    "import pandas as pd\n",
    "\n",
    "import matplotlib.pyplot as plt\n",
    "\n",
    "from sklearn.model_selection import train_test_split\n",
    "from sklearn.metrics import mean_absolute_error, mean_squared_error, r2_score\n",
    "from sklearn.pipeline import Pipeline\n",
    "from sklearn.compose import ColumnTransformer\n",
    "from sklearn.preprocessing import StandardScaler, MinMaxScaler, RobustScaler, PowerTransformer\n",
    "from sklearn.preprocessing import FunctionTransformer\n",
    "from sklearn.pipeline import FeatureUnion\n",
    "\n",
    "import os\n",
    "import pickle\n",
    "import datetime\n",
    "import warnings"
   ]
  },
  {
   "cell_type": "code",
   "execution_count": 2,
   "id": "5a9ae5b9",
   "metadata": {},
   "outputs": [],
   "source": [
    "pd.set_option('display.max_columns', None)\n",
    "warnings.filterwarnings(\"ignore\")"
   ]
  },
  {
   "cell_type": "markdown",
   "id": "d36a199d",
   "metadata": {},
   "source": [
    "Directory variables"
   ]
  },
  {
   "cell_type": "code",
   "execution_count": 3,
   "id": "ffbe2435",
   "metadata": {},
   "outputs": [],
   "source": [
    "data_dir = r\"C:\\Data\\Study\\Ai_adventures\\Projects\\Machine_Learning\\Regression\\DengAi_Disease spread prediction\\data\"\n",
    "data_path = r\"C:\\Data\\Study\\Ai_adventures\\Projects\\Machine_Learning\\Regression\\DengAi_Disease spread prediction\\outputs\\selected_features_and_labels.pkl\"\n",
    "model_path = r\"C:\\Data\\Study\\Ai_adventures\\Projects\\Machine_Learning\\Regression\\DengAi_Disease spread prediction\\models\\final_model.pkl\"\n",
    "output_dir = r\"C:\\Data\\Study\\Ai_adventures\\Projects\\Machine_Learning\\Regression\\DengAi_Disease spread prediction\\outputs\"\n",
    "transformer_dir = r\"C:\\Data\\Study\\Ai_adventures\\Projects\\Machine_Learning\\Regression\\DengAi_Disease spread prediction\\transformers\""
   ]
  },
  {
   "cell_type": "markdown",
   "id": "5ac2b486",
   "metadata": {},
   "source": [
    "Loading data, model and transformers"
   ]
  },
  {
   "cell_type": "code",
   "execution_count": 4,
   "id": "c99b30e9",
   "metadata": {},
   "outputs": [],
   "source": [
    "def load_data(data_dir, file_name, date_columns=[]):\n",
    "    file_path = os.path.join(data_dir, file_name)\n",
    "    return pd.read_csv(file_path, parse_dates=date_columns)\n",
    "new_data = load_data(data_dir, \"dengue_features_test.csv\", date_columns=[\"week_start_date\"])"
   ]
  },
  {
   "cell_type": "code",
   "execution_count": 5,
   "id": "6441cfd3",
   "metadata": {},
   "outputs": [],
   "source": [
    "with open(data_path, \"rb\") as file:\n",
    "    data = pickle.load(file)"
   ]
  },
  {
   "cell_type": "code",
   "execution_count": 6,
   "id": "0c69616e",
   "metadata": {},
   "outputs": [],
   "source": [
    "with open(model_path, \"rb\") as file:\n",
    "    model = pickle.load(file)"
   ]
  },
  {
   "cell_type": "code",
   "execution_count": 7,
   "id": "3238705f",
   "metadata": {},
   "outputs": [],
   "source": [
    "transformer_path = os.path.join(transformer_dir, \"le.pkl\")\n",
    "with open(transformer_path, \"rb\") as file:\n",
    "    le = pickle.load(file)"
   ]
  },
  {
   "cell_type": "code",
   "execution_count": 8,
   "id": "0ae1a224",
   "metadata": {},
   "outputs": [],
   "source": [
    "selector_path = os.path.join(transformer_dir, \"selector.pkl\")\n",
    "with open(selector_path, \"rb\") as file:\n",
    "    selector = pickle.load(file)"
   ]
  },
  {
   "cell_type": "code",
   "execution_count": 9,
   "id": "a25801d5",
   "metadata": {},
   "outputs": [],
   "source": [
    "scaler_path = os.path.join(transformer_dir, \"scaler.pkl\")\n",
    "with open(scaler_path, \"rb\") as file:\n",
    "    scaler = pickle.load(file)"
   ]
  },
  {
   "cell_type": "code",
   "execution_count": 10,
   "id": "ebfba89f",
   "metadata": {
    "scrolled": true
   },
   "outputs": [
    {
     "data": {
      "text/html": [
       "<div>\n",
       "<style scoped>\n",
       "    .dataframe tbody tr th:only-of-type {\n",
       "        vertical-align: middle;\n",
       "    }\n",
       "\n",
       "    .dataframe tbody tr th {\n",
       "        vertical-align: top;\n",
       "    }\n",
       "\n",
       "    .dataframe thead th {\n",
       "        text-align: right;\n",
       "    }\n",
       "</style>\n",
       "<table border=\"1\" class=\"dataframe\">\n",
       "  <thead>\n",
       "    <tr style=\"text-align: right;\">\n",
       "      <th></th>\n",
       "      <th>feature_1</th>\n",
       "      <th>feature_2</th>\n",
       "      <th>feature_3</th>\n",
       "      <th>feature_4</th>\n",
       "      <th>feature_5</th>\n",
       "      <th>feature_6</th>\n",
       "      <th>feature_7</th>\n",
       "      <th>feature_8</th>\n",
       "      <th>feature_9</th>\n",
       "      <th>feature_10</th>\n",
       "      <th>feature_11</th>\n",
       "      <th>feature_12</th>\n",
       "      <th>feature_13</th>\n",
       "      <th>feature_14</th>\n",
       "      <th>feature_15</th>\n",
       "      <th>feature_16</th>\n",
       "      <th>feature_17</th>\n",
       "      <th>feature_18</th>\n",
       "      <th>feature_19</th>\n",
       "      <th>feature_20</th>\n",
       "      <th>feature_21</th>\n",
       "      <th>feature_22</th>\n",
       "      <th>total_cases</th>\n",
       "    </tr>\n",
       "  </thead>\n",
       "  <tbody>\n",
       "    <tr>\n",
       "      <th>0</th>\n",
       "      <td>1.0</td>\n",
       "      <td>4.0</td>\n",
       "      <td>0.0</td>\n",
       "      <td>1990.0</td>\n",
       "      <td>18.0</td>\n",
       "      <td>-0.016536</td>\n",
       "      <td>-0.045015</td>\n",
       "      <td>0.110036</td>\n",
       "      <td>-0.082612</td>\n",
       "      <td>-0.744185</td>\n",
       "      <td>-0.943302</td>\n",
       "      <td>-1.214591</td>\n",
       "      <td>-1.387852</td>\n",
       "      <td>-0.329611</td>\n",
       "      <td>-1.566752</td>\n",
       "      <td>-0.744185</td>\n",
       "      <td>-0.368641</td>\n",
       "      <td>-1.291053</td>\n",
       "      <td>-0.300128</td>\n",
       "      <td>-1.448836</td>\n",
       "      <td>-1.484469</td>\n",
       "      <td>-0.272887</td>\n",
       "      <td>4.0</td>\n",
       "    </tr>\n",
       "    <tr>\n",
       "      <th>1</th>\n",
       "      <td>1.0</td>\n",
       "      <td>5.0</td>\n",
       "      <td>0.0</td>\n",
       "      <td>1990.0</td>\n",
       "      <td>19.0</td>\n",
       "      <td>0.377020</td>\n",
       "      <td>0.301500</td>\n",
       "      <td>-0.478241</td>\n",
       "      <td>-0.436839</td>\n",
       "      <td>-0.314551</td>\n",
       "      <td>-0.487879</td>\n",
       "      <td>-0.700195</td>\n",
       "      <td>-0.676998</td>\n",
       "      <td>-0.111301</td>\n",
       "      <td>-0.523304</td>\n",
       "      <td>-0.314551</td>\n",
       "      <td>-0.651463</td>\n",
       "      <td>-0.492902</td>\n",
       "      <td>-0.749960</td>\n",
       "      <td>-0.388845</td>\n",
       "      <td>-0.047147</td>\n",
       "      <td>-0.800602</td>\n",
       "      <td>5.0</td>\n",
       "    </tr>\n",
       "    <tr>\n",
       "      <th>2</th>\n",
       "      <td>1.0</td>\n",
       "      <td>5.0</td>\n",
       "      <td>0.0</td>\n",
       "      <td>1990.0</td>\n",
       "      <td>20.0</td>\n",
       "      <td>-0.792355</td>\n",
       "      <td>0.568155</td>\n",
       "      <td>-0.567387</td>\n",
       "      <td>-0.187652</td>\n",
       "      <td>0.097705</td>\n",
       "      <td>-0.071461</td>\n",
       "      <td>-0.367098</td>\n",
       "      <td>-0.919344</td>\n",
       "      <td>0.354113</td>\n",
       "      <td>0.354093</td>\n",
       "      <td>0.097705</td>\n",
       "      <td>-0.738630</td>\n",
       "      <td>-0.492902</td>\n",
       "      <td>-0.645358</td>\n",
       "      <td>-0.133716</td>\n",
       "      <td>0.351279</td>\n",
       "      <td>0.798169</td>\n",
       "      <td>4.0</td>\n",
       "    </tr>\n",
       "    <tr>\n",
       "      <th>3</th>\n",
       "      <td>1.0</td>\n",
       "      <td>5.0</td>\n",
       "      <td>0.0</td>\n",
       "      <td>1990.0</td>\n",
       "      <td>21.0</td>\n",
       "      <td>0.034186</td>\n",
       "      <td>1.163593</td>\n",
       "      <td>0.537103</td>\n",
       "      <td>0.709611</td>\n",
       "      <td>-0.616682</td>\n",
       "      <td>0.081599</td>\n",
       "      <td>-0.090599</td>\n",
       "      <td>-0.400195</td>\n",
       "      <td>0.187881</td>\n",
       "      <td>0.075074</td>\n",
       "      <td>-0.616682</td>\n",
       "      <td>-0.584496</td>\n",
       "      <td>0.085830</td>\n",
       "      <td>-0.401578</td>\n",
       "      <td>0.476215</td>\n",
       "      <td>0.685422</td>\n",
       "      <td>-1.191951</td>\n",
       "      <td>3.0</td>\n",
       "    </tr>\n",
       "    <tr>\n",
       "      <th>4</th>\n",
       "      <td>1.0</td>\n",
       "      <td>5.0</td>\n",
       "      <td>0.0</td>\n",
       "      <td>1990.0</td>\n",
       "      <td>22.0</td>\n",
       "      <td>0.592251</td>\n",
       "      <td>1.300171</td>\n",
       "      <td>0.861593</td>\n",
       "      <td>0.847845</td>\n",
       "      <td>-0.967240</td>\n",
       "      <td>0.483642</td>\n",
       "      <td>0.267015</td>\n",
       "      <td>-0.152622</td>\n",
       "      <td>0.471071</td>\n",
       "      <td>0.096439</td>\n",
       "      <td>-0.967240</td>\n",
       "      <td>-0.025532</td>\n",
       "      <td>1.544761</td>\n",
       "      <td>0.952789</td>\n",
       "      <td>1.553328</td>\n",
       "      <td>1.088514</td>\n",
       "      <td>-1.032905</td>\n",
       "      <td>6.0</td>\n",
       "    </tr>\n",
       "  </tbody>\n",
       "</table>\n",
       "</div>"
      ],
      "text/plain": [
       "   feature_1  feature_2  feature_3  feature_4  feature_5  feature_6  \\\n",
       "0        1.0        4.0        0.0     1990.0       18.0  -0.016536   \n",
       "1        1.0        5.0        0.0     1990.0       19.0   0.377020   \n",
       "2        1.0        5.0        0.0     1990.0       20.0  -0.792355   \n",
       "3        1.0        5.0        0.0     1990.0       21.0   0.034186   \n",
       "4        1.0        5.0        0.0     1990.0       22.0   0.592251   \n",
       "\n",
       "   feature_7  feature_8  feature_9  feature_10  feature_11  feature_12  \\\n",
       "0  -0.045015   0.110036  -0.082612   -0.744185   -0.943302   -1.214591   \n",
       "1   0.301500  -0.478241  -0.436839   -0.314551   -0.487879   -0.700195   \n",
       "2   0.568155  -0.567387  -0.187652    0.097705   -0.071461   -0.367098   \n",
       "3   1.163593   0.537103   0.709611   -0.616682    0.081599   -0.090599   \n",
       "4   1.300171   0.861593   0.847845   -0.967240    0.483642    0.267015   \n",
       "\n",
       "   feature_13  feature_14  feature_15  feature_16  feature_17  feature_18  \\\n",
       "0   -1.387852   -0.329611   -1.566752   -0.744185   -0.368641   -1.291053   \n",
       "1   -0.676998   -0.111301   -0.523304   -0.314551   -0.651463   -0.492902   \n",
       "2   -0.919344    0.354113    0.354093    0.097705   -0.738630   -0.492902   \n",
       "3   -0.400195    0.187881    0.075074   -0.616682   -0.584496    0.085830   \n",
       "4   -0.152622    0.471071    0.096439   -0.967240   -0.025532    1.544761   \n",
       "\n",
       "   feature_19  feature_20  feature_21  feature_22  total_cases  \n",
       "0   -0.300128   -1.448836   -1.484469   -0.272887          4.0  \n",
       "1   -0.749960   -0.388845   -0.047147   -0.800602          5.0  \n",
       "2   -0.645358   -0.133716    0.351279    0.798169          4.0  \n",
       "3   -0.401578    0.476215    0.685422   -1.191951          3.0  \n",
       "4    0.952789    1.553328    1.088514   -1.032905          6.0  "
      ]
     },
     "execution_count": 10,
     "metadata": {},
     "output_type": "execute_result"
    }
   ],
   "source": [
    "data.head()"
   ]
  },
  {
   "cell_type": "code",
   "execution_count": 11,
   "id": "4eea6e87",
   "metadata": {},
   "outputs": [
    {
     "data": {
      "text/plain": [
       "GradientBoostingRegressor(learning_rate=0.01, min_samples_leaf=3,\n",
       "                          min_samples_split=3, n_estimators=500)"
      ]
     },
     "execution_count": 11,
     "metadata": {},
     "output_type": "execute_result"
    }
   ],
   "source": [
    "model"
   ]
  },
  {
   "cell_type": "markdown",
   "id": "21a8dd62",
   "metadata": {},
   "source": [
    "Features and Labels"
   ]
  },
  {
   "cell_type": "code",
   "execution_count": 12,
   "id": "f65bbf76",
   "metadata": {},
   "outputs": [
    {
     "data": {
      "text/plain": [
       "((1114, 22), (1114,))"
      ]
     },
     "execution_count": 12,
     "metadata": {},
     "output_type": "execute_result"
    }
   ],
   "source": [
    "X = data.drop(columns=[\"total_cases\"])\n",
    "y = data.total_cases\n",
    "X.shape, y.shape"
   ]
  },
  {
   "cell_type": "markdown",
   "id": "d11bf85c",
   "metadata": {},
   "source": [
    "Splitting data"
   ]
  },
  {
   "cell_type": "code",
   "execution_count": 13,
   "id": "15feeb7d",
   "metadata": {},
   "outputs": [],
   "source": [
    "X_train, X_test, y_train, y_test = train_test_split(X,y,test_size=0.2,random_state=0)"
   ]
  },
  {
   "cell_type": "markdown",
   "id": "6bb41a64",
   "metadata": {},
   "source": [
    "Training and making predictions"
   ]
  },
  {
   "cell_type": "code",
   "execution_count": 14,
   "id": "2d6aff2d",
   "metadata": {},
   "outputs": [
    {
     "data": {
      "text/plain": [
       "GradientBoostingRegressor(learning_rate=0.01, min_samples_leaf=3,\n",
       "                          min_samples_split=3, n_estimators=500)"
      ]
     },
     "execution_count": 14,
     "metadata": {},
     "output_type": "execute_result"
    }
   ],
   "source": [
    "model.fit(X_train,y_train)"
   ]
  },
  {
   "cell_type": "code",
   "execution_count": 15,
   "id": "4905a151",
   "metadata": {},
   "outputs": [],
   "source": [
    "y_preds = model.predict(X_test)"
   ]
  },
  {
   "cell_type": "markdown",
   "id": "23e80a70",
   "metadata": {},
   "source": [
    "Evaluation "
   ]
  },
  {
   "cell_type": "code",
   "execution_count": 16,
   "id": "37747412",
   "metadata": {},
   "outputs": [],
   "source": [
    "def metrics(y_true,y_preds):\n",
    "    def precision(x):\n",
    "        return np.round(x,2)\n",
    "    mse = precision(mean_squared_error(y_test, y_preds))\n",
    "    rmse = precision(np.sqrt(mse))\n",
    "    mae = precision(mean_absolute_error(y_test, y_preds))\n",
    "    r2 = precision(r2_score(y_test, y_preds))\n",
    "    print(f\"MSE:{mse} | RMSE:{rmse} | MAE:{mae} | r2:{r2}\")"
   ]
  },
  {
   "cell_type": "code",
   "execution_count": 17,
   "id": "530d5cc1",
   "metadata": {},
   "outputs": [
    {
     "name": "stdout",
     "output_type": "stream",
     "text": [
      "MSE:278.96 | RMSE:16.7 | MAE:10.32 | r2:0.64\n"
     ]
    }
   ],
   "source": [
    "metrics(y_test,y_preds)"
   ]
  },
  {
   "cell_type": "markdown",
   "id": "7e302bcb",
   "metadata": {},
   "source": [
    "- Residual Plot: Plotting the residuals (the differences between predicted and actual values) helps you assess whether your model is making systematic errors"
   ]
  },
  {
   "cell_type": "code",
   "execution_count": 18,
   "id": "007ebc26",
   "metadata": {},
   "outputs": [
    {
     "data": {
      "image/png": "[encoded data removed]",
      "text/plain": [
       "<Figure size 720x360 with 1 Axes>"
      ]
     },
     "metadata": {
      "needs_background": "light"
     },
     "output_type": "display_data"
    }
   ],
   "source": [
    "plt.figure(figsize=(10, 5))\n",
    "residuals = y_test - y_preds\n",
    "plt.scatter(y_preds, residuals)\n",
    "plt.xlabel(\"Predicted Values\")\n",
    "plt.ylabel(\"Residuals\")\n",
    "plt.title(\"Residual Plot\")\n",
    "plt.axhline(y=0, color='r', linestyle='-')\n",
    "plt.show()"
   ]
  },
  {
   "cell_type": "markdown",
   "id": "0d7b1f21",
   "metadata": {},
   "source": [
    "Distribution Plot : Visualize the distribution of predicted values compared to actual values."
   ]
  },
  {
   "cell_type": "code",
   "execution_count": 19,
   "id": "4e3abe45",
   "metadata": {},
   "outputs": [
    {
     "data": {
      "image/png": "[encoded data removed]",
      "text/plain": [
       "<Figure size 720x360 with 1 Axes>"
      ]
     },
     "metadata": {
      "needs_background": "light"
     },
     "output_type": "display_data"
    }
   ],
   "source": [
    "plt.figure(figsize=(10, 5))\n",
    "plt.hist(y_test, bins=30, alpha=0.5, label='Actual', color='b')\n",
    "plt.hist(y_preds, bins=30, alpha=0.5, label='Predicted', color='r')\n",
    "plt.xlabel('Value')\n",
    "plt.ylabel('Frequency')\n",
    "plt.legend(loc='upper right')\n",
    "plt.title('Distribution of Actual and Predicted Values')\n",
    "plt.show()"
   ]
  },
  {
   "cell_type": "markdown",
   "id": "fb434ce0",
   "metadata": {},
   "source": [
    "Feature Importance : If your model allows for feature importance analysis (e.g., Random Forest), visualize the importance scores of individual features."
   ]
  },
  {
   "cell_type": "code",
   "execution_count": 20,
   "id": "8f06ff4d",
   "metadata": {},
   "outputs": [
    {
     "data": {
      "image/png": "[encoded data removed]",
      "text/plain": [
       "<Figure size 720x360 with 1 Axes>"
      ]
     },
     "metadata": {
      "needs_background": "light"
     },
     "output_type": "display_data"
    }
   ],
   "source": [
    "plt.figure(figsize=(10, 5))\n",
    "if hasattr(model, 'feature_importances_'):\n",
    "    feature_importance = model.feature_importances_\n",
    "    plt.bar(range(len(feature_importance)), feature_importance)\n",
    "    plt.xlabel('Feature Index')\n",
    "    plt.ylabel('Feature Importance')\n",
    "    plt.title('Feature Importance Plot')\n",
    "    plt.show()"
   ]
  },
  {
   "cell_type": "markdown",
   "id": "992b011b",
   "metadata": {},
   "source": [
    "New data processing "
   ]
  },
  {
   "cell_type": "code",
   "execution_count": 47,
   "id": "6b7ab4a3",
   "metadata": {},
   "outputs": [],
   "source": [
    "def load_data(data_dir, file_name, date_columns=[]):\n",
    "    file_path = os.path.join(data_dir, file_name)\n",
    "    return pd.read_csv(file_path, parse_dates=date_columns)"
   ]
  },
  {
   "cell_type": "code",
   "execution_count": 48,
   "id": "66db1799",
   "metadata": {},
   "outputs": [],
   "source": [
    "new_data = load_data(data_dir, \"dengue_features_test.csv\", date_columns=[\"week_start_date\"])"
   ]
  },
  {
   "cell_type": "code",
   "execution_count": 49,
   "id": "ab164be8",
   "metadata": {
    "scrolled": true
   },
   "outputs": [
    {
     "data": {
      "text/html": [
       "<div>\n",
       "<style scoped>\n",
       "    .dataframe tbody tr th:only-of-type {\n",
       "        vertical-align: middle;\n",
       "    }\n",
       "\n",
       "    .dataframe tbody tr th {\n",
       "        vertical-align: top;\n",
       "    }\n",
       "\n",
       "    .dataframe thead th {\n",
       "        text-align: right;\n",
       "    }\n",
       "</style>\n",
       "<table border=\"1\" class=\"dataframe\">\n",
       "  <thead>\n",
       "    <tr style=\"text-align: right;\">\n",
       "      <th></th>\n",
       "      <th>city</th>\n",
       "      <th>year</th>\n",
       "      <th>weekofyear</th>\n",
       "      <th>week_start_date</th>\n",
       "      <th>ndvi_ne</th>\n",
       "      <th>ndvi_nw</th>\n",
       "      <th>ndvi_se</th>\n",
       "      <th>ndvi_sw</th>\n",
       "      <th>precipitation_amt_mm</th>\n",
       "      <th>reanalysis_air_temp_k</th>\n",
       "      <th>reanalysis_avg_temp_k</th>\n",
       "      <th>reanalysis_dew_point_temp_k</th>\n",
       "      <th>reanalysis_max_air_temp_k</th>\n",
       "      <th>reanalysis_min_air_temp_k</th>\n",
       "      <th>reanalysis_precip_amt_kg_per_m2</th>\n",
       "      <th>reanalysis_relative_humidity_percent</th>\n",
       "      <th>reanalysis_sat_precip_amt_mm</th>\n",
       "      <th>reanalysis_specific_humidity_g_per_kg</th>\n",
       "      <th>reanalysis_tdtr_k</th>\n",
       "      <th>station_avg_temp_c</th>\n",
       "      <th>station_diur_temp_rng_c</th>\n",
       "      <th>station_max_temp_c</th>\n",
       "      <th>station_min_temp_c</th>\n",
       "      <th>station_precip_mm</th>\n",
       "    </tr>\n",
       "  </thead>\n",
       "  <tbody>\n",
       "    <tr>\n",
       "      <th>0</th>\n",
       "      <td>sj</td>\n",
       "      <td>2008</td>\n",
       "      <td>18</td>\n",
       "      <td>2008-04-29</td>\n",
       "      <td>-0.0189</td>\n",
       "      <td>-0.018900</td>\n",
       "      <td>0.102729</td>\n",
       "      <td>0.091200</td>\n",
       "      <td>78.60</td>\n",
       "      <td>298.492857</td>\n",
       "      <td>298.550000</td>\n",
       "      <td>294.527143</td>\n",
       "      <td>301.1</td>\n",
       "      <td>296.4</td>\n",
       "      <td>25.37</td>\n",
       "      <td>78.781429</td>\n",
       "      <td>78.60</td>\n",
       "      <td>15.918571</td>\n",
       "      <td>3.128571</td>\n",
       "      <td>26.528571</td>\n",
       "      <td>7.057143</td>\n",
       "      <td>33.3</td>\n",
       "      <td>21.7</td>\n",
       "      <td>75.2</td>\n",
       "    </tr>\n",
       "    <tr>\n",
       "      <th>1</th>\n",
       "      <td>sj</td>\n",
       "      <td>2008</td>\n",
       "      <td>19</td>\n",
       "      <td>2008-05-06</td>\n",
       "      <td>-0.0180</td>\n",
       "      <td>-0.012400</td>\n",
       "      <td>0.082043</td>\n",
       "      <td>0.072314</td>\n",
       "      <td>12.56</td>\n",
       "      <td>298.475714</td>\n",
       "      <td>298.557143</td>\n",
       "      <td>294.395714</td>\n",
       "      <td>300.8</td>\n",
       "      <td>296.7</td>\n",
       "      <td>21.83</td>\n",
       "      <td>78.230000</td>\n",
       "      <td>12.56</td>\n",
       "      <td>15.791429</td>\n",
       "      <td>2.571429</td>\n",
       "      <td>26.071429</td>\n",
       "      <td>5.557143</td>\n",
       "      <td>30.0</td>\n",
       "      <td>22.2</td>\n",
       "      <td>34.3</td>\n",
       "    </tr>\n",
       "    <tr>\n",
       "      <th>2</th>\n",
       "      <td>sj</td>\n",
       "      <td>2008</td>\n",
       "      <td>20</td>\n",
       "      <td>2008-05-13</td>\n",
       "      <td>-0.0015</td>\n",
       "      <td>NaN</td>\n",
       "      <td>0.151083</td>\n",
       "      <td>0.091529</td>\n",
       "      <td>3.66</td>\n",
       "      <td>299.455714</td>\n",
       "      <td>299.357143</td>\n",
       "      <td>295.308571</td>\n",
       "      <td>302.2</td>\n",
       "      <td>296.4</td>\n",
       "      <td>4.12</td>\n",
       "      <td>78.270000</td>\n",
       "      <td>3.66</td>\n",
       "      <td>16.674286</td>\n",
       "      <td>4.428571</td>\n",
       "      <td>27.928571</td>\n",
       "      <td>7.785714</td>\n",
       "      <td>32.8</td>\n",
       "      <td>22.8</td>\n",
       "      <td>3.0</td>\n",
       "    </tr>\n",
       "    <tr>\n",
       "      <th>3</th>\n",
       "      <td>sj</td>\n",
       "      <td>2008</td>\n",
       "      <td>21</td>\n",
       "      <td>2008-05-20</td>\n",
       "      <td>NaN</td>\n",
       "      <td>-0.019867</td>\n",
       "      <td>0.124329</td>\n",
       "      <td>0.125686</td>\n",
       "      <td>0.00</td>\n",
       "      <td>299.690000</td>\n",
       "      <td>299.728571</td>\n",
       "      <td>294.402857</td>\n",
       "      <td>303.0</td>\n",
       "      <td>296.9</td>\n",
       "      <td>2.20</td>\n",
       "      <td>73.015714</td>\n",
       "      <td>0.00</td>\n",
       "      <td>15.775714</td>\n",
       "      <td>4.342857</td>\n",
       "      <td>28.057143</td>\n",
       "      <td>6.271429</td>\n",
       "      <td>33.3</td>\n",
       "      <td>24.4</td>\n",
       "      <td>0.3</td>\n",
       "    </tr>\n",
       "    <tr>\n",
       "      <th>4</th>\n",
       "      <td>sj</td>\n",
       "      <td>2008</td>\n",
       "      <td>22</td>\n",
       "      <td>2008-05-27</td>\n",
       "      <td>0.0568</td>\n",
       "      <td>0.039833</td>\n",
       "      <td>0.062267</td>\n",
       "      <td>0.075914</td>\n",
       "      <td>0.76</td>\n",
       "      <td>299.780000</td>\n",
       "      <td>299.671429</td>\n",
       "      <td>294.760000</td>\n",
       "      <td>302.3</td>\n",
       "      <td>297.3</td>\n",
       "      <td>4.36</td>\n",
       "      <td>74.084286</td>\n",
       "      <td>0.76</td>\n",
       "      <td>16.137143</td>\n",
       "      <td>3.542857</td>\n",
       "      <td>27.614286</td>\n",
       "      <td>7.085714</td>\n",
       "      <td>33.3</td>\n",
       "      <td>23.3</td>\n",
       "      <td>84.1</td>\n",
       "    </tr>\n",
       "  </tbody>\n",
       "</table>\n",
       "</div>"
      ],
      "text/plain": [
       "  city  year  weekofyear week_start_date  ndvi_ne   ndvi_nw   ndvi_se  \\\n",
       "0   sj  2008          18      2008-04-29  -0.0189 -0.018900  0.102729   \n",
       "1   sj  2008          19      2008-05-06  -0.0180 -0.012400  0.082043   \n",
       "2   sj  2008          20      2008-05-13  -0.0015       NaN  0.151083   \n",
       "3   sj  2008          21      2008-05-20      NaN -0.019867  0.124329   \n",
       "4   sj  2008          22      2008-05-27   0.0568  0.039833  0.062267   \n",
       "\n",
       "    ndvi_sw  precipitation_amt_mm  reanalysis_air_temp_k  \\\n",
       "0  0.091200                 78.60             298.492857   \n",
       "1  0.072314                 12.56             298.475714   \n",
       "2  0.091529                  3.66             299.455714   \n",
       "3  0.125686                  0.00             299.690000   \n",
       "4  0.075914                  0.76             299.780000   \n",
       "\n",
       "   reanalysis_avg_temp_k  reanalysis_dew_point_temp_k  \\\n",
       "0             298.550000                   294.527143   \n",
       "1             298.557143                   294.395714   \n",
       "2             299.357143                   295.308571   \n",
       "3             299.728571                   294.402857   \n",
       "4             299.671429                   294.760000   \n",
       "\n",
       "   reanalysis_max_air_temp_k  reanalysis_min_air_temp_k  \\\n",
       "0                      301.1                      296.4   \n",
       "1                      300.8                      296.7   \n",
       "2                      302.2                      296.4   \n",
       "3                      303.0                      296.9   \n",
       "4                      302.3                      297.3   \n",
       "\n",
       "   reanalysis_precip_amt_kg_per_m2  reanalysis_relative_humidity_percent  \\\n",
       "0                            25.37                             78.781429   \n",
       "1                            21.83                             78.230000   \n",
       "2                             4.12                             78.270000   \n",
       "3                             2.20                             73.015714   \n",
       "4                             4.36                             74.084286   \n",
       "\n",
       "   reanalysis_sat_precip_amt_mm  reanalysis_specific_humidity_g_per_kg  \\\n",
       "0                         78.60                              15.918571   \n",
       "1                         12.56                              15.791429   \n",
       "2                          3.66                              16.674286   \n",
       "3                          0.00                              15.775714   \n",
       "4                          0.76                              16.137143   \n",
       "\n",
       "   reanalysis_tdtr_k  station_avg_temp_c  station_diur_temp_rng_c  \\\n",
       "0           3.128571           26.528571                 7.057143   \n",
       "1           2.571429           26.071429                 5.557143   \n",
       "2           4.428571           27.928571                 7.785714   \n",
       "3           4.342857           28.057143                 6.271429   \n",
       "4           3.542857           27.614286                 7.085714   \n",
       "\n",
       "   station_max_temp_c  station_min_temp_c  station_precip_mm  \n",
       "0                33.3                21.7               75.2  \n",
       "1                30.0                22.2               34.3  \n",
       "2                32.8                22.8                3.0  \n",
       "3                33.3                24.4                0.3  \n",
       "4                33.3                23.3               84.1  "
      ]
     },
     "execution_count": 49,
     "metadata": {},
     "output_type": "execute_result"
    }
   ],
   "source": [
    "new_data.head()"
   ]
  },
  {
   "cell_type": "code",
   "execution_count": 50,
   "id": "524777ff",
   "metadata": {},
   "outputs": [
    {
     "data": {
      "text/plain": [
       "(416, 24)"
      ]
     },
     "execution_count": 50,
     "metadata": {},
     "output_type": "execute_result"
    }
   ],
   "source": [
    "new_data.shape"
   ]
  },
  {
   "cell_type": "code",
   "execution_count": 51,
   "id": "c59b80d8",
   "metadata": {},
   "outputs": [],
   "source": [
    "new_data2 = new_data.copy()"
   ]
  },
  {
   "cell_type": "code",
   "execution_count": 52,
   "id": "da754c8a",
   "metadata": {},
   "outputs": [],
   "source": [
    "def process_test(data,encoder = le, selector = selector,scaler = scaler):\n",
    "\n",
    "    def handle_null_values(data):\n",
    "        data.fillna(data.mean(), inplace=True)\n",
    "        return data\n",
    "\n",
    "    def date_extraction(data):\n",
    "        data = handle_null_values(data)\n",
    "        data.insert(1,\"day\",data.week_start_date.dt.day)\n",
    "        data.insert(2,\"month\",data.week_start_date.dt.month)\n",
    "        data.insert(3,\"day_of_week\",data.week_start_date.dt.day_of_week)\n",
    "        data.drop(columns=[\"week_start_date\"],inplace=True)\n",
    "        return data\n",
    "\n",
    "    def scale_data(data):\n",
    "        data = date_extraction(data)\n",
    "        scaling_columns = data.iloc[:, 6:].columns\n",
    "        data[scaling_columns] = scaler.transform(data[scaling_columns])\n",
    "        return data\n",
    "\n",
    "    def encoding(data):\n",
    "        data = scale_data(data)\n",
    "        cols = data.select_dtypes(\"O\").columns\n",
    "        data[cols[0]] = le.transform(data[cols[0]])\n",
    "        return data\n",
    "\n",
    "    def feature_selection(data):\n",
    "        data = encoding(data)\n",
    "        data = selector.transform(data)\n",
    "        return data\n",
    "    \n",
    "    return feature_selection(data)"
   ]
  },
  {
   "cell_type": "code",
   "execution_count": 53,
   "id": "c7c20777",
   "metadata": {},
   "outputs": [],
   "source": [
    "processed_new_data = process_test(new_data2)"
   ]
  },
  {
   "cell_type": "code",
   "execution_count": 65,
   "id": "8e12f910",
   "metadata": {},
   "outputs": [
    {
     "name": "stdout",
     "output_type": "stream",
     "text": [
      "Submission saved successfully\n"
     ]
    }
   ],
   "source": [
    "processed_new_data_path = os.path.join(output_dir, \"processed_new_data.pkl\")\n",
    "def save_transformed_data(data, file_path):\n",
    "    with open(file_path, \"wb\") as file:\n",
    "        pickle.dump(processed_new_data, file)\n",
    "        print(\"Submission saved successfully\")\n",
    "\n",
    "save_transformed_data(processed_new_data, processed_new_data_path)"
   ]
  },
  {
   "cell_type": "markdown",
   "id": "8e916ba9",
   "metadata": {},
   "source": [
    "Predictions on new data"
   ]
  },
  {
   "cell_type": "code",
   "execution_count": 54,
   "id": "278e78be",
   "metadata": {},
   "outputs": [],
   "source": [
    "y_preds = model.predict(processed_new_data)"
   ]
  },
  {
   "cell_type": "code",
   "execution_count": 55,
   "id": "d669d6d7",
   "metadata": {},
   "outputs": [
    {
     "data": {
      "text/plain": [
       "array([ 7.16581114,  7.54423659,  5.98774419,  8.81539574,  7.45941026,\n",
       "       12.75091547, 10.29697799,  7.67894617, 11.52081264, 10.90110692])"
      ]
     },
     "execution_count": 55,
     "metadata": {},
     "output_type": "execute_result"
    }
   ],
   "source": [
    "y_preds[:10]"
   ]
  },
  {
   "cell_type": "markdown",
   "id": "5937bb31",
   "metadata": {},
   "source": [
    "Submission "
   ]
  },
  {
   "cell_type": "code",
   "execution_count": 56,
   "id": "241f7cb8",
   "metadata": {},
   "outputs": [],
   "source": [
    "X_submission = new_data[[\"city\",\"year\",\"weekofyear\"]]"
   ]
  },
  {
   "cell_type": "code",
   "execution_count": 58,
   "id": "b282a360",
   "metadata": {},
   "outputs": [
    {
     "data": {
      "text/html": [
       "<div>\n",
       "<style scoped>\n",
       "    .dataframe tbody tr th:only-of-type {\n",
       "        vertical-align: middle;\n",
       "    }\n",
       "\n",
       "    .dataframe tbody tr th {\n",
       "        vertical-align: top;\n",
       "    }\n",
       "\n",
       "    .dataframe thead th {\n",
       "        text-align: right;\n",
       "    }\n",
       "</style>\n",
       "<table border=\"1\" class=\"dataframe\">\n",
       "  <thead>\n",
       "    <tr style=\"text-align: right;\">\n",
       "      <th></th>\n",
       "      <th>city</th>\n",
       "      <th>year</th>\n",
       "      <th>weekofyear</th>\n",
       "    </tr>\n",
       "  </thead>\n",
       "  <tbody>\n",
       "    <tr>\n",
       "      <th>0</th>\n",
       "      <td>sj</td>\n",
       "      <td>2008</td>\n",
       "      <td>18</td>\n",
       "    </tr>\n",
       "    <tr>\n",
       "      <th>1</th>\n",
       "      <td>sj</td>\n",
       "      <td>2008</td>\n",
       "      <td>19</td>\n",
       "    </tr>\n",
       "    <tr>\n",
       "      <th>2</th>\n",
       "      <td>sj</td>\n",
       "      <td>2008</td>\n",
       "      <td>20</td>\n",
       "    </tr>\n",
       "    <tr>\n",
       "      <th>3</th>\n",
       "      <td>sj</td>\n",
       "      <td>2008</td>\n",
       "      <td>21</td>\n",
       "    </tr>\n",
       "    <tr>\n",
       "      <th>4</th>\n",
       "      <td>sj</td>\n",
       "      <td>2008</td>\n",
       "      <td>22</td>\n",
       "    </tr>\n",
       "  </tbody>\n",
       "</table>\n",
       "</div>"
      ],
      "text/plain": [
       "  city  year  weekofyear\n",
       "0   sj  2008          18\n",
       "1   sj  2008          19\n",
       "2   sj  2008          20\n",
       "3   sj  2008          21\n",
       "4   sj  2008          22"
      ]
     },
     "execution_count": 58,
     "metadata": {},
     "output_type": "execute_result"
    }
   ],
   "source": [
    "X_submission.head()"
   ]
  },
  {
   "cell_type": "code",
   "execution_count": 59,
   "id": "b0fe1352",
   "metadata": {},
   "outputs": [],
   "source": [
    "submission = pd.concat([X_submission,pd.Series(y_preds.astype('int64'),name=\"total_cases\")],axis=1)"
   ]
  },
  {
   "cell_type": "code",
   "execution_count": 60,
   "id": "243fe113",
   "metadata": {
    "scrolled": true
   },
   "outputs": [
    {
     "data": {
      "text/html": [
       "<div>\n",
       "<style scoped>\n",
       "    .dataframe tbody tr th:only-of-type {\n",
       "        vertical-align: middle;\n",
       "    }\n",
       "\n",
       "    .dataframe tbody tr th {\n",
       "        vertical-align: top;\n",
       "    }\n",
       "\n",
       "    .dataframe thead th {\n",
       "        text-align: right;\n",
       "    }\n",
       "</style>\n",
       "<table border=\"1\" class=\"dataframe\">\n",
       "  <thead>\n",
       "    <tr style=\"text-align: right;\">\n",
       "      <th></th>\n",
       "      <th>city</th>\n",
       "      <th>year</th>\n",
       "      <th>weekofyear</th>\n",
       "      <th>total_cases</th>\n",
       "    </tr>\n",
       "  </thead>\n",
       "  <tbody>\n",
       "    <tr>\n",
       "      <th>0</th>\n",
       "      <td>sj</td>\n",
       "      <td>2008</td>\n",
       "      <td>18</td>\n",
       "      <td>7</td>\n",
       "    </tr>\n",
       "    <tr>\n",
       "      <th>1</th>\n",
       "      <td>sj</td>\n",
       "      <td>2008</td>\n",
       "      <td>19</td>\n",
       "      <td>7</td>\n",
       "    </tr>\n",
       "    <tr>\n",
       "      <th>2</th>\n",
       "      <td>sj</td>\n",
       "      <td>2008</td>\n",
       "      <td>20</td>\n",
       "      <td>5</td>\n",
       "    </tr>\n",
       "    <tr>\n",
       "      <th>3</th>\n",
       "      <td>sj</td>\n",
       "      <td>2008</td>\n",
       "      <td>21</td>\n",
       "      <td>8</td>\n",
       "    </tr>\n",
       "    <tr>\n",
       "      <th>4</th>\n",
       "      <td>sj</td>\n",
       "      <td>2008</td>\n",
       "      <td>22</td>\n",
       "      <td>7</td>\n",
       "    </tr>\n",
       "  </tbody>\n",
       "</table>\n",
       "</div>"
      ],
      "text/plain": [
       "  city  year  weekofyear  total_cases\n",
       "0   sj  2008          18            7\n",
       "1   sj  2008          19            7\n",
       "2   sj  2008          20            5\n",
       "3   sj  2008          21            8\n",
       "4   sj  2008          22            7"
      ]
     },
     "execution_count": 60,
     "metadata": {},
     "output_type": "execute_result"
    }
   ],
   "source": [
    "submission.head()"
   ]
  },
  {
   "cell_type": "code",
   "execution_count": 61,
   "id": "1d27117b",
   "metadata": {},
   "outputs": [
    {
     "data": {
      "text/plain": [
       "city           object\n",
       "year            int64\n",
       "weekofyear      int64\n",
       "total_cases     int64\n",
       "dtype: object"
      ]
     },
     "execution_count": 61,
     "metadata": {},
     "output_type": "execute_result"
    }
   ],
   "source": [
    "submission.dtypes"
   ]
  },
  {
   "cell_type": "code",
   "execution_count": 62,
   "id": "b4ffb086",
   "metadata": {},
   "outputs": [
    {
     "name": "stdout",
     "output_type": "stream",
     "text": [
      "Submission saved successfully\n"
     ]
    }
   ],
   "source": [
    "submission_data_path = os.path.join(output_dir, \"submission.pkl\")\n",
    "def save_transformed_data(data, file_path):\n",
    "    with open(file_path, \"wb\") as file:\n",
    "        pickle.dump(data, file)\n",
    "        print(\"Submission saved successfully\")\n",
    "\n",
    "save_transformed_data(submission, submission_data_path)"
   ]
  },
  {
   "cell_type": "code",
   "execution_count": 63,
   "id": "a029e43a",
   "metadata": {},
   "outputs": [],
   "source": [
    "csv_file_path = os.path.join(output_dir, \"submission.csv\")\n",
    "submission.to_csv(csv_file_path, index=False) "
   ]
  }
 ],
 "metadata": {
  "kernelspec": {
   "display_name": "Python 3 (ipykernel)",
   "language": "python",
   "name": "python3"
  },
  "language_info": {
   "codemirror_mode": {
    "name": "ipython",
    "version": 3
   },
   "file_extension": ".py",
   "mimetype": "text/x-python",
   "name": "python",
   "nbconvert_exporter": "python",
   "pygments_lexer": "ipython3",
   "version": "3.10.0"
  }
 },
 "nbformat": 4,
 "nbformat_minor": 5
}
